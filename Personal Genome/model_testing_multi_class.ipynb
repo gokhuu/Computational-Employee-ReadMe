{
 "cells": [
  {
   "cell_type": "code",
   "execution_count": 1,
   "metadata": {},
   "outputs": [],
   "source": [
    "#import libraries\n",
    "import numpy as np\n",
    "import pandas as pd \n",
    "import matplotlib.pyplot as plt\n",
    "import seaborn as sns\n",
    "from sklearn.metrics import accuracy_score"
   ]
  },
  {
   "cell_type": "code",
   "execution_count": 2,
   "metadata": {
    "scrolled": true
   },
   "outputs": [
    {
     "name": "stdout",
     "output_type": "stream",
     "text": [
      "           Autism  CDK5RAP1    TMEM246       PKD1     EDEM1      LSM11  \\\n",
      "PGP1-1          0  5.561823   9.167399   4.762467  4.259699   3.333153   \n",
      "PGP1-2          0  2.050032   6.121957   3.086031  3.888580   3.064389   \n",
      "PGP1-3          0  2.481599  14.205795   8.663784  2.988719  13.747564   \n",
      "GM23716-1       0  4.396121  15.263531   8.198981  3.433083  13.873706   \n",
      "GM23716-2       0  3.721746  14.125613  10.278191  3.331196  13.211928   \n",
      "\n",
      "            COL26A1      CPSF6      DCTN5     MRPS33  ...      UBE2T  \\\n",
      "PGP1-1     5.245319  15.288924  10.670947  15.418737  ...  36.320081   \n",
      "PGP1-2     4.530108  14.225061  11.109630  21.596005  ...  19.707959   \n",
      "PGP1-3     6.189141  18.021990  15.850792   9.871680  ...  15.002978   \n",
      "GM23716-1  5.018456  17.714552  15.832140   4.594193  ...  13.609106   \n",
      "GM23716-2  5.620373  15.806883  15.434513   7.544800  ...  13.346974   \n",
      "\n",
      "                PTK7    EIF2B3      CDK16  C15orf61       GSTP1       IPP  \\\n",
      "PGP1-1     23.422699  6.506580   7.639236  1.808342  253.147425  2.624415   \n",
      "PGP1-2     12.679506  6.687741   7.457054  1.614225  290.182382  3.276070   \n",
      "PGP1-3      9.314311  6.744241  36.158595  3.626686  118.126815  2.221963   \n",
      "GM23716-1   9.826147  6.570986  32.786094  3.988325  103.634970  2.459700   \n",
      "GM23716-2   4.147004  5.990253  55.245293  3.849378  111.978695  2.494851   \n",
      "\n",
      "               ASB3      EHD4      NRSN2  \n",
      "PGP1-1     5.473228  9.892221  14.017985  \n",
      "PGP1-2     7.483068  7.377414  11.613564  \n",
      "PGP1-3     5.087976  2.392554  15.666102  \n",
      "GM23716-1  4.626596  2.301205  16.500382  \n",
      "GM23716-2  4.843815  2.285043  18.534124  \n",
      "\n",
      "[5 rows x 11272 columns]\n"
     ]
    }
   ],
   "source": [
    "#import raw data\n",
    "df = pd.read_csv('Organoid Files/all_autism_fpkm_t_threshold_multi_class.csv', header=0, index_col=0)\n",
    "print(df.head())"
   ]
  },
  {
   "cell_type": "code",
   "execution_count": 4,
   "metadata": {},
   "outputs": [
    {
     "name": "stdout",
     "output_type": "stream",
     "text": [
      "PGP1-1        0\n",
      "PGP1-2        0\n",
      "PGP1-3        0\n",
      "GM23716-1     0\n",
      "GM23716-2     0\n",
      "             ..\n",
      "14781x16-1    2\n",
      "14781x16-2    2\n",
      "14781x16-3    2\n",
      "14746x8-1     2\n",
      "14746x8-2     2\n",
      "Name: Autism, Length: 71, dtype: int64\n",
      "            CDK5RAP1    TMEM246       PKD1     EDEM1      LSM11   COL26A1  \\\n",
      "PGP1-1      5.561823   9.167399   4.762467  4.259699   3.333153  5.245319   \n",
      "PGP1-2      2.050032   6.121957   3.086031  3.888580   3.064389  4.530108   \n",
      "PGP1-3      2.481599  14.205795   8.663784  2.988719  13.747564  6.189141   \n",
      "GM23716-1   4.396121  15.263531   8.198981  3.433083  13.873706  5.018456   \n",
      "GM23716-2   3.721746  14.125613  10.278191  3.331196  13.211928  5.620373   \n",
      "...              ...        ...        ...       ...        ...       ...   \n",
      "14781x16-1  6.384259   7.771520   7.071175  3.297171   5.224131  4.838935   \n",
      "14781x16-2  3.128289   8.186893   9.025883  4.009783   4.728078  6.729686   \n",
      "14781x16-3  7.880060   4.857521   7.076191  4.097137   5.166222  5.299588   \n",
      "14746x8-1   3.388043   3.334954  10.996357  1.545692   1.109277  6.404090   \n",
      "14746x8-2   3.623195   6.834265   3.154569  3.818004   3.262106  4.399106   \n",
      "\n",
      "                CPSF6      DCTN5     MRPS33      COPS8  ...      UBE2T  \\\n",
      "PGP1-1      15.288924  10.670947  15.418737  26.492518  ...  36.320081   \n",
      "PGP1-2      14.225061  11.109630  21.596005  23.446239  ...  19.707959   \n",
      "PGP1-3      18.021990  15.850792   9.871680  32.272768  ...  15.002978   \n",
      "GM23716-1   17.714552  15.832140   4.594193  30.869273  ...  13.609106   \n",
      "GM23716-2   15.806883  15.434513   7.544800  24.221830  ...  13.346974   \n",
      "...               ...        ...        ...        ...  ...        ...   \n",
      "14781x16-1  16.391965  13.168677   9.170113  23.544437  ...  23.827240   \n",
      "14781x16-2  13.232519  10.730565   5.805684  18.649314  ...  15.109922   \n",
      "14781x16-3  21.528132  11.529954  13.647595  22.095454  ...  24.614361   \n",
      "14746x8-1    4.283906   2.709484   7.187927   9.226015  ...  35.300336   \n",
      "14746x8-2   15.213019  10.777413  18.043668  23.712450  ...  25.649829   \n",
      "\n",
      "                 PTK7    EIF2B3      CDK16  C15orf61       GSTP1       IPP  \\\n",
      "PGP1-1      23.422699  6.506580   7.639236  1.808342  253.147425  2.624415   \n",
      "PGP1-2      12.679506  6.687741   7.457054  1.614225  290.182382  3.276070   \n",
      "PGP1-3       9.314311  6.744241  36.158595  3.626686  118.126815  2.221963   \n",
      "GM23716-1    9.826147  6.570986  32.786094  3.988325  103.634970  2.459700   \n",
      "GM23716-2    4.147004  5.990253  55.245293  3.849378  111.978695  2.494851   \n",
      "...               ...       ...        ...       ...         ...       ...   \n",
      "14781x16-1  11.225659  8.583395  16.807080  2.247722  115.635692  1.998373   \n",
      "14781x16-2   6.428226  6.306627  18.606929  2.320908   93.281158  2.860871   \n",
      "14781x16-3   9.036573  6.284167  25.226473  2.000993  180.321536  3.957021   \n",
      "14746x8-1   11.964774  2.285754  44.006054  2.186490  356.445464  1.027271   \n",
      "14746x8-2   23.876904  5.690446  10.509333  2.133355  275.675347  2.857793   \n",
      "\n",
      "                ASB3      EHD4      NRSN2  \n",
      "PGP1-1      5.473228  9.892221  14.017985  \n",
      "PGP1-2      7.483068  7.377414  11.613564  \n",
      "PGP1-3      5.087976  2.392554  15.666102  \n",
      "GM23716-1   4.626596  2.301205  16.500382  \n",
      "GM23716-2   4.843815  2.285043  18.534124  \n",
      "...              ...       ...        ...  \n",
      "14781x16-1  4.476631  2.150457  14.543974  \n",
      "14781x16-2  2.771161  2.254990  10.858082  \n",
      "14781x16-3  5.646545  2.751370  12.931406  \n",
      "14746x8-1   1.624070  2.718903  17.184158  \n",
      "14746x8-2   6.195983  8.082016  11.506148  \n",
      "\n",
      "[71 rows x 11271 columns]\n"
     ]
    }
   ],
   "source": [
    "#create target and dataset\n",
    "y = df.Autism\n",
    "X = df.iloc[:,1:]\n",
    "\n",
    "print(y)\n",
    "print(X)"
   ]
  },
  {
   "cell_type": "code",
   "execution_count": 6,
   "metadata": {},
   "outputs": [],
   "source": [
    "#create test and train data sets\n",
    "from sklearn.model_selection import train_test_split\n",
    "\n",
    "train_X, test_X, train_y, test_y = train_test_split(X,y, random_state=1)"
   ]
  },
  {
   "cell_type": "code",
   "execution_count": 7,
   "metadata": {},
   "outputs": [
    {
     "data": {
      "text/plain": [
       "0.6666666666666666"
      ]
     },
     "execution_count": 7,
     "metadata": {},
     "output_type": "execute_result"
    }
   ],
   "source": [
    "#logistic regression\n",
    "from sklearn.linear_model import LogisticRegression\n",
    "logreg = LogisticRegression(max_iter=10000)\n",
    "logreg.fit(train_X, train_y)\n",
    "logreg_pred  = logreg.predict(test_X) \n",
    "acc_log = accuracy_score(test_y, logreg_pred)\n",
    "acc_log"
   ]
  },
  {
   "cell_type": "code",
   "execution_count": 11,
   "metadata": {},
   "outputs": [
    {
     "data": {
      "text/plain": [
       "0.3333333333333333"
      ]
     },
     "execution_count": 11,
     "metadata": {},
     "output_type": "execute_result"
    }
   ],
   "source": [
    "#Support Vector Machine\n",
    "from sklearn.svm import SVC, LinearSVC\n",
    "svc = SVC()\n",
    "svc.fit(train_X,train_y)\n",
    "svc_pred = svc.predict(test_X)\n",
    "acc_svc = accuracy_score(test_y, svc_pred)\n",
    "acc_svc"
   ]
  },
  {
   "cell_type": "code",
   "execution_count": 12,
   "metadata": {},
   "outputs": [
    {
     "data": {
      "text/plain": [
       "0.7222222222222222"
      ]
     },
     "execution_count": 12,
     "metadata": {},
     "output_type": "execute_result"
    }
   ],
   "source": [
    "from sklearn.ensemble import RandomForestClassifier\n",
    "random_forest = RandomForestClassifier(n_estimators=100)\n",
    "random_forest.fit(train_X, train_y)\n",
    "rf_pred = random_forest.predict(test_X)\n",
    "rf_acc = accuracy_score(test_y, rf_pred)\n",
    "rf_acc\n"
   ]
  },
  {
   "cell_type": "code",
   "execution_count": 13,
   "metadata": {},
   "outputs": [
    {
     "data": {
      "text/plain": [
       "0.2222222222222222"
      ]
     },
     "execution_count": 13,
     "metadata": {},
     "output_type": "execute_result"
    }
   ],
   "source": [
    "#K Nearest Neighbor\n",
    "from sklearn.neighbors import KNeighborsClassifier\n",
    "knn = KNeighborsClassifier(n_neighbors=3)\n",
    "knn.fit(train_X, train_y)\n",
    "knn_pred = knn.predict(test_X)\n",
    "acc_knn = accuracy_score(test_y, knn_pred)\n",
    "acc_knn"
   ]
  },
  {
   "cell_type": "code",
   "execution_count": 14,
   "metadata": {},
   "outputs": [
    {
     "data": {
      "text/plain": [
       "0.4444444444444444"
      ]
     },
     "execution_count": 14,
     "metadata": {},
     "output_type": "execute_result"
    }
   ],
   "source": [
    "from sklearn.naive_bayes import GaussianNB\n",
    "gaussian = GaussianNB()\n",
    "gaussian.fit(train_X, train_y)\n",
    "g_pred = gaussian.predict(test_X)\n",
    "acc_gauss = accuracy_score(test_y, g_pred)\n",
    "acc_gauss"
   ]
  },
  {
   "cell_type": "code",
   "execution_count": 16,
   "metadata": {},
   "outputs": [
    {
     "data": {
      "text/plain": [
       "0.6666666666666666"
      ]
     },
     "execution_count": 16,
     "metadata": {},
     "output_type": "execute_result"
    }
   ],
   "source": [
    "linear_svc = LinearSVC(max_iter=1000000)\n",
    "linear_svc.fit(train_X, train_y)\n",
    "lsvc = linear_svc.predict(test_X)\n",
    "linear_acc = accuracy_score(test_y, lsvc)\n",
    "linear_acc"
   ]
  },
  {
   "cell_type": "code",
   "execution_count": 18,
   "metadata": {},
   "outputs": [
    {
     "data": {
      "text/plain": [
       "0.6111111111111112"
      ]
     },
     "execution_count": 18,
     "metadata": {},
     "output_type": "execute_result"
    }
   ],
   "source": [
    "from sklearn.linear_model import SGDClassifier\n",
    "sgd = SGDClassifier()\n",
    "sgd.fit(train_X, train_y)\n",
    "sgd_pred = sgd.predict(test_X)\n",
    "sgd_acc = accuracy_score(test_y, sgd_pred)\n",
    "sgd_acc"
   ]
  },
  {
   "cell_type": "code",
   "execution_count": 17,
   "metadata": {},
   "outputs": [
    {
     "data": {
      "text/plain": [
       "0.7222222222222222"
      ]
     },
     "execution_count": 17,
     "metadata": {},
     "output_type": "execute_result"
    }
   ],
   "source": [
    "from sklearn.tree import DecisionTreeClassifier\n",
    "dt = DecisionTreeClassifier()\n",
    "dt.fit(train_X, train_y)\n",
    "dt_pred = dt.predict(test_X)\n",
    "dt_acc = accuracy_score(test_y, dt_pred)\n",
    "dt_acc"
   ]
  }
 ],
 "metadata": {
  "kernelspec": {
   "display_name": "Python 3",
   "language": "python",
   "name": "python3"
  },
  "language_info": {
   "codemirror_mode": {
    "name": "ipython",
    "version": 3
   },
   "file_extension": ".py",
   "mimetype": "text/x-python",
   "name": "python",
   "nbconvert_exporter": "python",
   "pygments_lexer": "ipython3",
   "version": "3.9.4"
  }
 },
 "nbformat": 4,
 "nbformat_minor": 4
}
