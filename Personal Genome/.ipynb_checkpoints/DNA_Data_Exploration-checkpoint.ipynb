{
 "cells": [
  {
   "cell_type": "markdown",
   "id": "16f518e9-2964-4dfd-89d7-1853381e5834",
   "metadata": {},
   "source": [
    "# DNA Data Model Testing"
   ]
  },
  {
   "cell_type": "code",
   "execution_count": 1,
   "id": "bd9511d9-2fff-4cb2-9142-ade112d378bc",
   "metadata": {},
   "outputs": [],
   "source": [
    "import numpy as np\n",
    "import pandas as pd\n",
    "import matplotlib.pyplot as plt\n",
    "import seaborn as sns\n",
    "import allel as al"
   ]
  },
  {
   "cell_type": "code",
   "execution_count": 2,
   "id": "53bff969-1d60-42c6-9b12-33a7969ec3f5",
   "metadata": {},
   "outputs": [],
   "source": [
    "#import DNA data\n",
    "\n",
    "csv_lst = ['VCFs/chrm_split/chr1_replicates.csv', 'VCFs/chrm_split/chr2_replicates.csv','VCFs/chrm_split/chr3_replicates.csv','VCFs/chrm_split/chr4_replicates.csv','VCFs/chrm_split/chr5_replicates.csv',\n",
    "'VCFs/chrm_split/chr6_replicates.csv','VCFs/chrm_split/chr7_replicates.csv','VCFs/chrm_split/chr8_replicates.csv','VCFs/chrm_split/chr9_replicates.csv','VCFs/chrm_split/chr10_replicates.csv',\n",
    "'VCFs/chrm_split/chr11_replicates.csv','VCFs/chrm_split/chr12_replicates.csv','VCFs/chrm_split/chr13_replicates.csv','VCFs/chrm_split/chr14_replicates.csv','VCFs/chrm_split/chr15_replicates.csv',\n",
    "'VCFs/chrm_split/chr16_replicates.csv','VCFs/chrm_split/chr17_replicates.csv','VCFs/chrm_split/chr18_replicates.csv','VCFs/chrm_split/chr19_replicates.csv','VCFs/chrm_split/chr20_replicates.csv',\n",
    "'VCFs/chrm_split/chr21_replicates.csv','VCFs/chrm_split/chr22_replicates.csv','VCFs/chrm_split/chrX_replicates.csv','VCFs/chrm_split/chrY_replicates.csv']\n",
    "\n",
    "\n",
    "def storage_lst(file_lst):\n",
    "    lst = []\n",
    "    for i in file_lst:\n",
    "        df = pd.read_csv(i, header=0)\n",
    "        df = df.drop('Unnamed: 0', axis=1)\n",
    "        lst.append(df)  \n",
    "    return lst\n",
    "\n",
    "df_list = storage_lst(csv_lst)"
   ]
  },
  {
   "cell_type": "code",
   "execution_count": 3,
   "id": "ba9c467e-1fe6-4d20-8cdb-8cea6d6d6d8e",
   "metadata": {
    "tags": []
   },
   "outputs": [],
   "source": [
    "#prep drop replicates\n",
    "cols_to_drop=['PGP1-3', 'PGP1-2', 'GM25256-3', 'GM25256-2',\n",
    "       'GM23720-3', 'GM23720-2', 'GM23716-3', 'GM23716-2', 'BXS0117-3',\n",
    "       'BXS0117-2', 'BXS0116-3', 'BXS0116-2', 'BXS0115-3', 'BXS0115-2',\n",
    "       'BXS0114-3', 'BXS0114-2', 'BYS0112-3', 'BYS0112-2', 'BXS0111-3',\n",
    "       'BXS0111-2', 'BXS0110-3', 'BXS0110-2', '1001-3', '1001-2', '901-3',\n",
    "       '901-2', '902-3', '902-2', '1401-3', '1401-2', '1601-3', '1601-2',\n",
    "       '14781x16-3', '14781x16-2', '14739x3-2', '14824x13-3', '14824x13-2',\n",
    "       '14746x8-2', '14858x3-3', '14858x3-2', '14799x1-3', '14799x1-2',\n",
    "       '14763x7-3', '14763x7-2', '14765x2-3', '14765x2-2']\n",
    "\n",
    "\n",
    "for i in df_list:\n",
    "    i = i.drop(cols_to_drop, axis=1)"
   ]
  },
  {
   "cell_type": "code",
   "execution_count": 4,
   "id": "d67e776b-ad3d-49cb-b656-f76156effaf3",
   "metadata": {
    "tags": []
   },
   "outputs": [
    {
     "name": "stdout",
     "output_type": "stream",
     "text": [
      "       Samples CHROM     POS                  PGP1-3                  PGP1-2  \\\n",
      "0   chr1@69511  chr1   69511    Homozygous Alternate    Homozygous Alternate   \n",
      "1  chr1@762273  chr1  762273  Heterozygous Alternate  Heterozygous Alternate   \n",
      "2  chr1@782981  chr1  782981  Heterozygous Alternate  Heterozygous Alternate   \n",
      "3  chr1@792263  chr1  792263  Heterozygous Alternate  Heterozygous Alternate   \n",
      "4  chr1@792480  chr1  792480    Homozygous Alternate    Homozygous Alternate   \n",
      "\n",
      "                GM25256-3               GM25256-2             GM23720-3  \\\n",
      "0    Homozygous Alternate    Homozygous Alternate  Homozygous Alternate   \n",
      "1  Heterozygous Alternate  Heterozygous Alternate  Homozygous Alternate   \n",
      "2  Heterozygous Alternate  Heterozygous Alternate  Homozygous Reference   \n",
      "3    Homozygous Alternate    Homozygous Alternate  Homozygous Alternate   \n",
      "4    Homozygous Alternate    Homozygous Alternate  Homozygous Alternate   \n",
      "\n",
      "              GM23720-2               GM23716-3  ...               BXS0111-1  \\\n",
      "0  Homozygous Alternate    Homozygous Alternate  ...    Homozygous Alternate   \n",
      "1  Homozygous Alternate    Homozygous Reference  ...  Heterozygous Alternate   \n",
      "2  Homozygous Reference  Heterozygous Alternate  ...    Homozygous Reference   \n",
      "3  Homozygous Alternate  Heterozygous Alternate  ...    Homozygous Alternate   \n",
      "4  Homozygous Alternate  Heterozygous Alternate  ...    Homozygous Alternate   \n",
      "\n",
      "              BYS0112-1               BXS0114-1             BXS0115-1  \\\n",
      "0  Homozygous Reference    Homozygous Reference  Homozygous Reference   \n",
      "1  Homozygous Alternate  Heterozygous Alternate  Homozygous Reference   \n",
      "2  Homozygous Reference  Heterozygous Alternate  Homozygous Alternate   \n",
      "3  Homozygous Alternate    Homozygous Alternate  Homozygous Alternate   \n",
      "4  Homozygous Alternate    Homozygous Alternate  Homozygous Alternate   \n",
      "\n",
      "                BXS0116-1               BXS0117-1               GM23716-1  \\\n",
      "0    Homozygous Alternate    Homozygous Alternate    Homozygous Alternate   \n",
      "1  Heterozygous Alternate    Homozygous Alternate    Homozygous Reference   \n",
      "2  Heterozygous Alternate  Heterozygous Alternate  Heterozygous Alternate   \n",
      "3  Heterozygous Alternate  Heterozygous Alternate  Heterozygous Alternate   \n",
      "4    Homozygous Alternate    Homozygous Alternate  Heterozygous Alternate   \n",
      "\n",
      "              GM23720-1               GM25256-1                  PGP1-1  \n",
      "0  Homozygous Alternate    Homozygous Alternate    Homozygous Alternate  \n",
      "1  Homozygous Alternate  Heterozygous Alternate  Heterozygous Alternate  \n",
      "2  Homozygous Reference  Heterozygous Alternate  Heterozygous Alternate  \n",
      "3  Homozygous Alternate    Homozygous Alternate  Heterozygous Alternate  \n",
      "4  Homozygous Alternate    Homozygous Alternate    Homozygous Alternate  \n",
      "\n",
      "[5 rows x 74 columns]\n"
     ]
    }
   ],
   "source": [
    "#create col header for transposed dna dataframe\n",
    "    \n",
    "for df in df_list:    \n",
    "    chrmPos = []\n",
    "    for i in range(df.shape[0]):\n",
    "        s = str(df.CHROM[i]) + '@' + str(df.POS[i])\n",
    "        chrmPos.append(s)\n",
    "\n",
    "    #append to dataframe and prep for analysis\n",
    "    df.insert(loc=0, column='Samples', value=chrmPos)\n",
    "    \n",
    "for df in df_list:\n",
    "    df = df.drop(['CHROM','POS'], axis=1)\n",
    "    #df = df.set_index('Samples')\n",
    "    #df = df.T\n",
    "\n",
    "print(df_list[0].head())"
   ]
  },
  {
   "cell_type": "code",
   "execution_count": 10,
   "id": "797d3f2f-cb91-4015-80e7-1e2091d23830",
   "metadata": {},
   "outputs": [
    {
     "ename": "KeyError",
     "evalue": "'chr1@69511'",
     "output_type": "error",
     "traceback": [
      "\u001b[1;31m---------------------------------------------------------------------------\u001b[0m",
      "\u001b[1;31mKeyError\u001b[0m                                  Traceback (most recent call last)",
      "\u001b[1;32m<ipython-input-10-cb57d562ec3b>\u001b[0m in \u001b[0;36m<module>\u001b[1;34m\u001b[0m\n\u001b[0;32m     10\u001b[0m         \u001b[0mtemp\u001b[0m \u001b[1;33m=\u001b[0m \u001b[1;33m[\u001b[0m\u001b[1;33m]\u001b[0m\u001b[1;33m\u001b[0m\u001b[1;33m\u001b[0m\u001b[0m\n\u001b[0;32m     11\u001b[0m         \u001b[1;32mfor\u001b[0m \u001b[0mj\u001b[0m \u001b[1;32min\u001b[0m \u001b[0mdf\u001b[0m\u001b[1;33m.\u001b[0m\u001b[0mloc\u001b[0m\u001b[1;33m[\u001b[0m\u001b[0mi\u001b[0m\u001b[1;33m]\u001b[0m\u001b[1;33m:\u001b[0m\u001b[1;33m\u001b[0m\u001b[1;33m\u001b[0m\u001b[0m\n\u001b[1;32m---> 12\u001b[1;33m             \u001b[0mtemp\u001b[0m\u001b[1;33m.\u001b[0m\u001b[0mappend\u001b[0m\u001b[1;33m(\u001b[0m\u001b[0mreference_dict\u001b[0m\u001b[1;33m[\u001b[0m\u001b[0mj\u001b[0m\u001b[1;33m]\u001b[0m\u001b[1;33m)\u001b[0m\u001b[1;33m\u001b[0m\u001b[1;33m\u001b[0m\u001b[0m\n\u001b[0m\u001b[0;32m     13\u001b[0m         \u001b[0mgt_array\u001b[0m\u001b[1;33m.\u001b[0m\u001b[0mappend\u001b[0m\u001b[1;33m(\u001b[0m\u001b[0mtemp\u001b[0m\u001b[1;33m)\u001b[0m\u001b[1;33m\u001b[0m\u001b[1;33m\u001b[0m\u001b[0m\n\u001b[0;32m     14\u001b[0m \u001b[0mprint\u001b[0m\u001b[1;33m(\u001b[0m\u001b[0mgt_array\u001b[0m\u001b[1;33m)\u001b[0m\u001b[1;33m\u001b[0m\u001b[1;33m\u001b[0m\u001b[0m\n",
      "\u001b[1;31mKeyError\u001b[0m: 'chr1@69511'"
     ]
    }
   ],
   "source": [
    "#create 3D numpy array\n",
    "reference_dict = {'Homozygous Reference':[0,0], 'Heterozygous Alternate':[0,1], \n",
    "\t\t\t\t\t'Heterozygous Alternate 1/2':[0,2],'Homozygous Alternate':[1,1]}\n",
    "\n",
    "#initiate genotype array\n",
    "gt_array =[]\n",
    "\n",
    "for df in df_list:\n",
    "    for i in df.index:\n",
    "        temp = []\n",
    "        for j in df.loc[i]:\n",
    "            temp.append(reference_dict[j])\n",
    "        gt_array.append(temp)\n",
    "print(gt_array)"
   ]
  },
  {
   "cell_type": "code",
   "execution_count": null,
   "id": "309eb3d8-9d6f-4a65-a65a-7b3250e26532",
   "metadata": {},
   "outputs": [],
   "source": [
    "dna = pd.concat(df_list,ignore_index=True)\n",
    "dna.head()"
   ]
  }
 ],
 "metadata": {
  "kernelspec": {
   "display_name": "Python 3",
   "language": "python",
   "name": "python3"
  },
  "language_info": {
   "codemirror_mode": {
    "name": "ipython",
    "version": 3
   },
   "file_extension": ".py",
   "mimetype": "text/x-python",
   "name": "python",
   "nbconvert_exporter": "python",
   "pygments_lexer": "ipython3",
   "version": "3.9.4"
  }
 },
 "nbformat": 4,
 "nbformat_minor": 5
}
