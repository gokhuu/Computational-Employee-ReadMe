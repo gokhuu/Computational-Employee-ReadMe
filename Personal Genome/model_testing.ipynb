{
 "cells": [
  {
   "cell_type": "code",
   "execution_count": 2,
   "metadata": {},
   "outputs": [],
   "source": [
    "#import libraries\n",
    "import numpy as np\n",
    "import pandas as pd \n",
    "import matplotlib.pyplot as plt\n",
    "import seaborn as sns"
   ]
  },
  {
   "cell_type": "code",
   "execution_count": 3,
   "metadata": {
    "scrolled": true
   },
   "outputs": [
    {
     "name": "stdout",
     "output_type": "stream",
     "text": [
      "           Autism  CDK5RAP1    TMEM246       PKD1     EDEM1      LSM11  \\\n",
      "PGP1-1        0.0  5.561823   9.167399   4.762467  4.259699   3.333153   \n",
      "PGP1-2        0.0  2.050032   6.121957   3.086031  3.888580   3.064389   \n",
      "PGP1-3        0.0  2.481599  14.205795   8.663784  2.988719  13.747564   \n",
      "GM23716-1     0.0  4.396121  15.263531   8.198981  3.433083  13.873706   \n",
      "GM23716-2     0.0  3.721746  14.125613  10.278191  3.331196  13.211928   \n",
      "\n",
      "            COL26A1      CPSF6      DCTN5      TIMM9  ...    NHLRC3  \\\n",
      "PGP1-1     5.245319  15.288924  10.670947  12.501312  ...  3.577807   \n",
      "PGP1-2     4.530108  14.225061  11.109630  14.227982  ...  2.951153   \n",
      "PGP1-3     6.189141  18.021990  15.850792   9.134396  ...  3.211442   \n",
      "GM23716-1  5.018456  17.714552  15.832140   8.492397  ...  3.052629   \n",
      "GM23716-2  5.620373  15.806883  15.434513   8.410669  ...  2.743381   \n",
      "\n",
      "             CCDC130     PIK3C3    PRKAB2    EIF2B3  C15orf61       IPP  \\\n",
      "PGP1-1     10.246243   9.379072  7.974797  6.506580  1.808342  2.624415   \n",
      "PGP1-2      8.455335  13.197261  7.847511  6.687741  1.614225  3.276070   \n",
      "PGP1-3      9.928194   7.313368  9.023667  6.744241  3.626686  2.221963   \n",
      "GM23716-1   9.895930   7.927309  9.817574  6.570986  3.988325  2.459700   \n",
      "GM23716-2   9.354041   8.525394  8.338526  5.990253  3.849378  2.494851   \n",
      "\n",
      "               ASB3      EHD4      NRSN2  \n",
      "PGP1-1     5.473228  9.892221  14.017985  \n",
      "PGP1-2     7.483068  7.377414  11.613564  \n",
      "PGP1-3     5.087976  2.392554  15.666102  \n",
      "GM23716-1  4.626596  2.301205  16.500382  \n",
      "GM23716-2  4.843815  2.285043  18.534124  \n",
      "\n",
      "[5 rows x 8164 columns]\n"
     ]
    }
   ],
   "source": [
    "#import raw data\n",
    "df = pd.read_csv('Organoid Files/all_autism_fpkm_iqr_1.5_outliers.csv', header=0, index_col=0)\n",
    "print(df.head())"
   ]
  },
  {
   "cell_type": "code",
   "execution_count": 4,
   "metadata": {},
   "outputs": [],
   "source": [
    "#sns.pairplot(df,hue='Autism')"
   ]
  },
  {
   "cell_type": "code",
   "execution_count": 5,
   "metadata": {},
   "outputs": [
    {
     "name": "stdout",
     "output_type": "stream",
     "text": [
      "PGP1-1        0.0\n",
      "PGP1-2        0.0\n",
      "PGP1-3        0.0\n",
      "GM23716-1     0.0\n",
      "GM23716-2     0.0\n",
      "             ... \n",
      "14781x16-1    1.0\n",
      "14781x16-2    1.0\n",
      "14781x16-3    1.0\n",
      "14746x8-1     1.0\n",
      "14746x8-2     1.0\n",
      "Name: Autism, Length: 71, dtype: float64\n",
      "            CDK5RAP1    TMEM246       PKD1     EDEM1      LSM11   COL26A1  \\\n",
      "PGP1-1      5.561823   9.167399   4.762467  4.259699   3.333153  5.245319   \n",
      "PGP1-2      2.050032   6.121957   3.086031  3.888580   3.064389  4.530108   \n",
      "PGP1-3      2.481599  14.205795   8.663784  2.988719  13.747564  6.189141   \n",
      "GM23716-1   4.396121  15.263531   8.198981  3.433083  13.873706  5.018456   \n",
      "GM23716-2   3.721746  14.125613  10.278191  3.331196  13.211928  5.620373   \n",
      "...              ...        ...        ...       ...        ...       ...   \n",
      "14781x16-1  6.384259   7.771520   7.071175  3.297171   5.224131  4.838935   \n",
      "14781x16-2  3.128289   8.186893   9.025883  4.009783   4.728078  6.729686   \n",
      "14781x16-3  7.880060   4.857521   7.076191  4.097137   5.166222  5.299588   \n",
      "14746x8-1   3.388043   3.334954  10.996357  1.545692   1.109277  6.404090   \n",
      "14746x8-2   3.623195   6.834265   3.154569  3.818004   3.262106  4.399106   \n",
      "\n",
      "                CPSF6      DCTN5      TIMM9      BMPR2  ...    NHLRC3  \\\n",
      "PGP1-1      15.288924  10.670947  12.501312   7.806645  ...  3.577807   \n",
      "PGP1-2      14.225061  11.109630  14.227982   7.346219  ...  2.951153   \n",
      "PGP1-3      18.021990  15.850792   9.134396   9.842422  ...  3.211442   \n",
      "GM23716-1   17.714552  15.832140   8.492397  10.152856  ...  3.052629   \n",
      "GM23716-2   15.806883  15.434513   8.410669  10.470102  ...  2.743381   \n",
      "...               ...        ...        ...        ...  ...       ...   \n",
      "14781x16-1  16.391965  13.168677  10.776919   8.954821  ...  1.637049   \n",
      "14781x16-2  13.232519  10.730565  12.409964  10.374631  ...  2.305655   \n",
      "14781x16-3  21.528132  11.529954  13.209200   8.054692  ...  3.237814   \n",
      "14746x8-1    4.283906   2.709484   6.715611   2.801787  ...  1.075425   \n",
      "14746x8-2   15.213019  10.777413  12.144656   7.767449  ...  3.348133   \n",
      "\n",
      "              CCDC130     PIK3C3     PRKAB2    EIF2B3  C15orf61       IPP  \\\n",
      "PGP1-1      10.246243   9.379072   7.974797  6.506580  1.808342  2.624415   \n",
      "PGP1-2       8.455335  13.197261   7.847511  6.687741  1.614225  3.276070   \n",
      "PGP1-3       9.928194   7.313368   9.023667  6.744241  3.626686  2.221963   \n",
      "GM23716-1    9.895930   7.927309   9.817574  6.570986  3.988325  2.459700   \n",
      "GM23716-2    9.354041   8.525394   8.338526  5.990253  3.849378  2.494851   \n",
      "...               ...        ...        ...       ...       ...       ...   \n",
      "14781x16-1  12.027670  11.101225  10.772747  8.583395  2.247722  1.998373   \n",
      "14781x16-2  11.762725   8.595687   9.600968  6.306627  2.320908  2.860871   \n",
      "14781x16-3  11.756826  12.915368  10.664276  6.284167  2.000993  3.957021   \n",
      "14746x8-1   11.878050   2.495181   2.330291  2.285754  2.186490  1.027271   \n",
      "14746x8-2    8.902245  11.416633   7.656260  5.690446  2.133355  2.857793   \n",
      "\n",
      "                ASB3      EHD4      NRSN2  \n",
      "PGP1-1      5.473228  9.892221  14.017985  \n",
      "PGP1-2      7.483068  7.377414  11.613564  \n",
      "PGP1-3      5.087976  2.392554  15.666102  \n",
      "GM23716-1   4.626596  2.301205  16.500382  \n",
      "GM23716-2   4.843815  2.285043  18.534124  \n",
      "...              ...       ...        ...  \n",
      "14781x16-1  4.476631  2.150457  14.543974  \n",
      "14781x16-2  2.771161  2.254990  10.858082  \n",
      "14781x16-3  5.646545  2.751370  12.931406  \n",
      "14746x8-1   1.624070  2.718903  17.184158  \n",
      "14746x8-2   6.195983  8.082016  11.506148  \n",
      "\n",
      "[71 rows x 8163 columns]\n"
     ]
    }
   ],
   "source": [
    "#create target and dataset\n",
    "y = df.Autism\n",
    "X = df.iloc[:,1:]\n",
    "\n",
    "print(y)\n",
    "print(X)"
   ]
  },
  {
   "cell_type": "code",
   "execution_count": 6,
   "metadata": {},
   "outputs": [],
   "source": [
    "#create test and train data sets\n",
    "from sklearn.model_selection import train_test_split\n",
    "\n",
    "train_X, test_X, train_y, test_y = train_test_split(X,y, random_state=1)"
   ]
  },
  {
   "cell_type": "code",
   "execution_count": 7,
   "metadata": {},
   "outputs": [
    {
     "data": {
      "text/plain": [
       "94.44"
      ]
     },
     "execution_count": 7,
     "metadata": {},
     "output_type": "execute_result"
    }
   ],
   "source": [
    "#logistic regression\n",
    "from sklearn.linear_model import LogisticRegression\n",
    "logreg = LogisticRegression(max_iter=10000)\n",
    "logreg.fit(train_X, train_y)\n",
    "logreg_pred  = logreg.predict(test_X) \n",
    "acc_log = round(logreg.score(test_X, test_y)*100,2)\n",
    "acc_log"
   ]
  },
  {
   "cell_type": "code",
   "execution_count": 8,
   "metadata": {},
   "outputs": [
    {
     "data": {
      "text/plain": [
       "83.02"
      ]
     },
     "execution_count": 8,
     "metadata": {},
     "output_type": "execute_result"
    }
   ],
   "source": [
    "#Support Vector Machine\n",
    "from sklearn.svm import SVC, LinearSVC\n",
    "svc = SVC()\n",
    "svc.fit(train_X,train_y)\n",
    "svc_pred = svc.predict(test_X)\n",
    "acc_svc = round(svc.score(train_X,train_y,)*100,2)\n",
    "acc_svc"
   ]
  },
  {
   "cell_type": "code",
   "execution_count": 9,
   "metadata": {},
   "outputs": [
    {
     "data": {
      "text/plain": [
       "72.22"
      ]
     },
     "execution_count": 9,
     "metadata": {},
     "output_type": "execute_result"
    }
   ],
   "source": [
    "from sklearn.ensemble import RandomForestClassifier\n",
    "random_forest = RandomForestClassifier(n_estimators=100)\n",
    "random_forest.fit(train_X, train_y)\n",
    "rf_pred = random_forest.predict(test_X)\n",
    "rf_acc = round(random_forest.score(test_X, test_y)*100,2)\n",
    "rf_acc\n"
   ]
  },
  {
   "cell_type": "code",
   "execution_count": 10,
   "metadata": {},
   "outputs": [
    {
     "data": {
      "text/plain": [
       "94.34"
      ]
     },
     "execution_count": 10,
     "metadata": {},
     "output_type": "execute_result"
    }
   ],
   "source": [
    "#K Nearest Neighbor\n",
    "from sklearn.neighbors import KNeighborsClassifier\n",
    "knn = KNeighborsClassifier(n_neighbors=3)\n",
    "knn.fit(train_X, train_y)\n",
    "knn_pred = knn.predict(test_X)\n",
    "acc_knn = round(knn.score(train_X, train_y) * 100,2)\n",
    "acc_knn"
   ]
  },
  {
   "cell_type": "code",
   "execution_count": 11,
   "metadata": {},
   "outputs": [
    {
     "data": {
      "text/plain": [
       "88.68"
      ]
     },
     "execution_count": 11,
     "metadata": {},
     "output_type": "execute_result"
    }
   ],
   "source": [
    "from sklearn.naive_bayes import GaussianNB\n",
    "gaussian = GaussianNB()\n",
    "gaussian.fit(train_X, train_y)\n",
    "g_pred = gaussian.predict(test_X)\n",
    "acc_gauss = round(gaussian.score(train_X, train_y)*100,2)\n",
    "acc_gauss"
   ]
  },
  {
   "cell_type": "code",
   "execution_count": 12,
   "metadata": {},
   "outputs": [
    {
     "data": {
      "text/plain": [
       "100.0"
      ]
     },
     "execution_count": 12,
     "metadata": {},
     "output_type": "execute_result"
    }
   ],
   "source": [
    "from sklearn.linear_model import Perceptron\n",
    "perceptron = Perceptron()\n",
    "perceptron.fit(train_X,train_y)\n",
    "p_pred = round(perceptron.score(train_X, train_y)*100,2)\n",
    "p_pred"
   ]
  },
  {
   "cell_type": "code",
   "execution_count": 13,
   "metadata": {},
   "outputs": [
    {
     "data": {
      "text/plain": [
       "94.44"
      ]
     },
     "execution_count": 13,
     "metadata": {},
     "output_type": "execute_result"
    }
   ],
   "source": [
    "linear_svc = LinearSVC(max_iter=1000000)\n",
    "linear_svc.fit(train_X, train_y)\n",
    "lsvc = linear_svc.predict(test_X)\n",
    "linear_acc = round(linear_svc.score(test_X, test_y)*100,2)\n",
    "linear_acc"
   ]
  },
  {
   "cell_type": "code",
   "execution_count": 14,
   "metadata": {},
   "outputs": [
    {
     "data": {
      "text/plain": [
       "100.0"
      ]
     },
     "execution_count": 14,
     "metadata": {},
     "output_type": "execute_result"
    }
   ],
   "source": [
    "from sklearn.linear_model import SGDClassifier\n",
    "sgd = SGDClassifier()\n",
    "sgd.fit(train_X, train_y)\n",
    "sgd_pred = sgd.predict(test_X)\n",
    "sgd_acc = round(sgd.score(test_X, test_y)*100,2)\n",
    "sgd_acc"
   ]
  },
  {
   "cell_type": "code",
   "execution_count": 15,
   "metadata": {},
   "outputs": [
    {
     "data": {
      "text/plain": [
       "83.33"
      ]
     },
     "execution_count": 15,
     "metadata": {},
     "output_type": "execute_result"
    }
   ],
   "source": [
    "from sklearn.tree import DecisionTreeClassifier\n",
    "dt = DecisionTreeClassifier()\n",
    "dt.fit(train_X, train_y)\n",
    "dt_pred = dt.predict(test_X)\n",
    "dt_acc = round(dt.score(test_X, test_y)*100,2)\n",
    "dt_acc"
   ]
  },
  {
   "cell_type": "code",
   "execution_count": 16,
   "metadata": {
    "scrolled": true
   },
   "outputs": [
    {
     "name": "stdout",
     "output_type": "stream",
     "text": [
      "INFO:tensorflow:Enabling eager execution\n",
      "INFO:tensorflow:Enabling v2 tensorshape\n",
      "INFO:tensorflow:Enabling resource variables\n",
      "INFO:tensorflow:Enabling tensor equality\n",
      "INFO:tensorflow:Enabling control flow v2\n"
     ]
    }
   ],
   "source": [
    "from tensorflow import keras\n",
    "from tensorflow.keras import layers\n",
    "\n",
    "early_stop = keras.callbacks.EarlyStopping(monitor='loss',patience=2,verbose=1)\n",
    "\n",
    "clf = keras.Sequential([\n",
    "    layers.Dense(units=100, activation='relu',input_shape=[8163]),\n",
    "    layers.BatchNormalization(),\n",
    "    layers.Dropout(0.3),\n",
    "    layers.Dense(units=1,activation='sigmoid')\n",
    "])\n",
    "\n",
    "clf.compile(\n",
    "    optimizer='rmsprop',\n",
    "    loss = 'binary_crossentropy',\n",
    "    metrics=['accuracy']\n",
    ")\n"
   ]
  },
  {
   "cell_type": "code",
   "execution_count": 17,
   "metadata": {},
   "outputs": [
    {
     "name": "stdout",
     "output_type": "stream",
     "text": [
      "Epoch 1/100\n",
      "3/3 [==============================] - 1s 8ms/step - loss: 1.1252 - accuracy: 0.5486\n",
      "Epoch 2/100\n",
      "3/3 [==============================] - 0s 8ms/step - loss: 0.6361 - accuracy: 0.7035\n",
      "Epoch 3/100\n",
      "3/3 [==============================] - 0s 8ms/step - loss: 0.4122 - accuracy: 0.8301\n",
      "Epoch 4/100\n",
      "3/3 [==============================] - 0s 8ms/step - loss: 0.3743 - accuracy: 0.8162\n",
      "Epoch 5/100\n",
      "3/3 [==============================] - 0s 8ms/step - loss: 0.3436 - accuracy: 0.8690\n",
      "Epoch 6/100\n",
      "3/3 [==============================] - 0s 8ms/step - loss: 0.2876 - accuracy: 0.8978\n",
      "Epoch 7/100\n",
      "3/3 [==============================] - 0s 8ms/step - loss: 0.2021 - accuracy: 0.9611\n",
      "Epoch 8/100\n",
      "3/3 [==============================] - 0s 8ms/step - loss: 0.2623 - accuracy: 0.8978\n",
      "Epoch 9/100\n",
      "3/3 [==============================] - 0s 3ms/step - loss: 0.2068 - accuracy: 0.9323\n",
      "Epoch 00009: early stopping\n",
      "2/2 [==============================] - 0s 0s/step - loss: 0.1417 - accuracy: 0.9623\n",
      "[0.14173263311386108, 0.9622641801834106]\n"
     ]
    }
   ],
   "source": [
    "clf.fit(train_X,train_y,batch_size=25,epochs = 100,shuffle=True,callbacks=[early_stop])\n",
    "print(clf.evaluate(train_X,train_y))"
   ]
  },
  {
   "cell_type": "code",
   "execution_count": 18,
   "metadata": {},
   "outputs": [
    {
     "name": "stdout",
     "output_type": "stream",
     "text": [
      "[1.]  :  1.0\n",
      "[0.]  :  0.0\n",
      "[1.]  :  1.0\n",
      "[1.]  :  1.0\n",
      "[0.]  :  0.0\n",
      "[1.]  :  1.0\n",
      "[0.]  :  1.0\n",
      "[1.]  :  1.0\n",
      "[1.]  :  1.0\n",
      "[0.]  :  0.0\n",
      "[0.]  :  0.0\n",
      "[1.]  :  1.0\n",
      "[1.]  :  1.0\n",
      "[0.]  :  0.0\n",
      "[1.]  :  1.0\n",
      "[1.]  :  1.0\n",
      "[1.]  :  1.0\n",
      "[1.]  :  1.0\n"
     ]
    }
   ],
   "source": [
    "clf_pred = clf.predict(test_X).round()\n",
    "\n",
    "for i in range(18):\n",
    "    print(str(clf_pred[i]), ' : ', str(test_y[i]))\n"
   ]
  }
 ],
 "metadata": {
  "kernelspec": {
   "display_name": "Python 3",
   "language": "python",
   "name": "python3"
  },
  "language_info": {
   "codemirror_mode": {
    "name": "ipython",
    "version": 3
   },
   "file_extension": ".py",
   "mimetype": "text/x-python",
   "name": "python",
   "nbconvert_exporter": "python",
   "pygments_lexer": "ipython3",
   "version": "3.9.4"
  }
 },
 "nbformat": 4,
 "nbformat_minor": 4
}
