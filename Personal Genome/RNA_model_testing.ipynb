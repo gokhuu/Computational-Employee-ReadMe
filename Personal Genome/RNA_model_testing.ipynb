{
 "cells": [
  {
   "cell_type": "markdown",
   "id": "0b454b41-c439-4eb0-bd17-d44923f89e71",
   "metadata": {},
   "source": [
    "# RNA Data Model testing"
   ]
  },
  {
   "cell_type": "code",
   "execution_count": 1,
   "id": "b9836cc0-b0eb-4bf0-836d-9896588bc0a0",
   "metadata": {},
   "outputs": [],
   "source": [
    "import numpy as np\n",
    "import pandas as pd\n",
    "import matplotlib.pyplot as plt\n",
    "import seaborn as sns"
   ]
  },
  {
   "cell_type": "markdown",
   "id": "4084a61e-67b4-4fc4-93e7-722d4074bd53",
   "metadata": {},
   "source": [
    "## Import Data\n",
    "\n",
    "Imported RNA FPKM data that was transformed in the DNA_RNA model testing notebook"
   ]
  },
  {
   "cell_type": "code",
   "execution_count": 2,
   "id": "6ab1dc5c-e7f2-4b29-9dad-9ac8bb74cc38",
   "metadata": {},
   "outputs": [
    {
     "data": {
      "text/html": [
       "<div>\n",
       "<style scoped>\n",
       "    .dataframe tbody tr th:only-of-type {\n",
       "        vertical-align: middle;\n",
       "    }\n",
       "\n",
       "    .dataframe tbody tr th {\n",
       "        vertical-align: top;\n",
       "    }\n",
       "\n",
       "    .dataframe thead th {\n",
       "        text-align: right;\n",
       "    }\n",
       "</style>\n",
       "<table border=\"1\" class=\"dataframe\">\n",
       "  <thead>\n",
       "    <tr style=\"text-align: right;\">\n",
       "      <th></th>\n",
       "      <th>Autism</th>\n",
       "      <th>HSBP1</th>\n",
       "      <th>CAP1</th>\n",
       "      <th>ZFHX4-AS1</th>\n",
       "      <th>FBXL7</th>\n",
       "      <th>PMPCA</th>\n",
       "      <th>PHF12</th>\n",
       "      <th>MGST3</th>\n",
       "      <th>LOC283070</th>\n",
       "      <th>PPP1R12B</th>\n",
       "      <th>...</th>\n",
       "      <th>UBE2T</th>\n",
       "      <th>PTK7</th>\n",
       "      <th>EIF2B3</th>\n",
       "      <th>CDK16</th>\n",
       "      <th>C15orf61</th>\n",
       "      <th>GSTP1</th>\n",
       "      <th>IPP</th>\n",
       "      <th>ASB3</th>\n",
       "      <th>EHD4</th>\n",
       "      <th>NRSN2</th>\n",
       "    </tr>\n",
       "  </thead>\n",
       "  <tbody>\n",
       "    <tr>\n",
       "      <th>PGP1-1</th>\n",
       "      <td>0</td>\n",
       "      <td>84.510038</td>\n",
       "      <td>25.546087</td>\n",
       "      <td>3.243708</td>\n",
       "      <td>5.533667</td>\n",
       "      <td>16.558363</td>\n",
       "      <td>6.716821</td>\n",
       "      <td>36.765727</td>\n",
       "      <td>3.525942</td>\n",
       "      <td>2.870405</td>\n",
       "      <td>...</td>\n",
       "      <td>36.320081</td>\n",
       "      <td>23.422699</td>\n",
       "      <td>6.506580</td>\n",
       "      <td>7.639236</td>\n",
       "      <td>1.808342</td>\n",
       "      <td>253.147425</td>\n",
       "      <td>2.624415</td>\n",
       "      <td>5.473228</td>\n",
       "      <td>9.892221</td>\n",
       "      <td>14.017985</td>\n",
       "    </tr>\n",
       "    <tr>\n",
       "      <th>PGP1-2</th>\n",
       "      <td>0</td>\n",
       "      <td>75.044515</td>\n",
       "      <td>20.451054</td>\n",
       "      <td>3.015391</td>\n",
       "      <td>6.885036</td>\n",
       "      <td>12.673928</td>\n",
       "      <td>5.882669</td>\n",
       "      <td>27.229725</td>\n",
       "      <td>2.658576</td>\n",
       "      <td>2.758019</td>\n",
       "      <td>...</td>\n",
       "      <td>19.707959</td>\n",
       "      <td>12.679506</td>\n",
       "      <td>6.687741</td>\n",
       "      <td>7.457054</td>\n",
       "      <td>1.614225</td>\n",
       "      <td>290.182382</td>\n",
       "      <td>3.276070</td>\n",
       "      <td>7.483068</td>\n",
       "      <td>7.377414</td>\n",
       "      <td>11.613564</td>\n",
       "    </tr>\n",
       "    <tr>\n",
       "      <th>PGP1-3</th>\n",
       "      <td>0</td>\n",
       "      <td>100.825429</td>\n",
       "      <td>24.200828</td>\n",
       "      <td>1.594495</td>\n",
       "      <td>1.653018</td>\n",
       "      <td>12.994339</td>\n",
       "      <td>5.947767</td>\n",
       "      <td>46.156174</td>\n",
       "      <td>5.883554</td>\n",
       "      <td>3.761642</td>\n",
       "      <td>...</td>\n",
       "      <td>15.002978</td>\n",
       "      <td>9.314311</td>\n",
       "      <td>6.744241</td>\n",
       "      <td>36.158595</td>\n",
       "      <td>3.626686</td>\n",
       "      <td>118.126815</td>\n",
       "      <td>2.221963</td>\n",
       "      <td>5.087976</td>\n",
       "      <td>2.392554</td>\n",
       "      <td>15.666102</td>\n",
       "    </tr>\n",
       "    <tr>\n",
       "      <th>GM23716-1</th>\n",
       "      <td>0</td>\n",
       "      <td>92.587682</td>\n",
       "      <td>22.887937</td>\n",
       "      <td>2.100904</td>\n",
       "      <td>1.835257</td>\n",
       "      <td>11.945566</td>\n",
       "      <td>5.041255</td>\n",
       "      <td>40.480850</td>\n",
       "      <td>6.950511</td>\n",
       "      <td>3.762403</td>\n",
       "      <td>...</td>\n",
       "      <td>13.609106</td>\n",
       "      <td>9.826147</td>\n",
       "      <td>6.570986</td>\n",
       "      <td>32.786094</td>\n",
       "      <td>3.988325</td>\n",
       "      <td>103.634970</td>\n",
       "      <td>2.459700</td>\n",
       "      <td>4.626596</td>\n",
       "      <td>2.301205</td>\n",
       "      <td>16.500382</td>\n",
       "    </tr>\n",
       "    <tr>\n",
       "      <th>GM23716-2</th>\n",
       "      <td>0</td>\n",
       "      <td>77.996502</td>\n",
       "      <td>22.323798</td>\n",
       "      <td>1.744930</td>\n",
       "      <td>1.764977</td>\n",
       "      <td>12.519729</td>\n",
       "      <td>6.163550</td>\n",
       "      <td>38.602007</td>\n",
       "      <td>6.977038</td>\n",
       "      <td>3.790913</td>\n",
       "      <td>...</td>\n",
       "      <td>13.346974</td>\n",
       "      <td>4.147004</td>\n",
       "      <td>5.990253</td>\n",
       "      <td>55.245293</td>\n",
       "      <td>3.849378</td>\n",
       "      <td>111.978695</td>\n",
       "      <td>2.494851</td>\n",
       "      <td>4.843815</td>\n",
       "      <td>2.285043</td>\n",
       "      <td>18.534124</td>\n",
       "    </tr>\n",
       "  </tbody>\n",
       "</table>\n",
       "<p>5 rows × 11201 columns</p>\n",
       "</div>"
      ],
      "text/plain": [
       "           Autism       HSBP1       CAP1  ZFHX4-AS1     FBXL7      PMPCA  \\\n",
       "PGP1-1          0   84.510038  25.546087   3.243708  5.533667  16.558363   \n",
       "PGP1-2          0   75.044515  20.451054   3.015391  6.885036  12.673928   \n",
       "PGP1-3          0  100.825429  24.200828   1.594495  1.653018  12.994339   \n",
       "GM23716-1       0   92.587682  22.887937   2.100904  1.835257  11.945566   \n",
       "GM23716-2       0   77.996502  22.323798   1.744930  1.764977  12.519729   \n",
       "\n",
       "              PHF12      MGST3  LOC283070  PPP1R12B  ...      UBE2T  \\\n",
       "PGP1-1     6.716821  36.765727   3.525942  2.870405  ...  36.320081   \n",
       "PGP1-2     5.882669  27.229725   2.658576  2.758019  ...  19.707959   \n",
       "PGP1-3     5.947767  46.156174   5.883554  3.761642  ...  15.002978   \n",
       "GM23716-1  5.041255  40.480850   6.950511  3.762403  ...  13.609106   \n",
       "GM23716-2  6.163550  38.602007   6.977038  3.790913  ...  13.346974   \n",
       "\n",
       "                PTK7    EIF2B3      CDK16  C15orf61       GSTP1       IPP  \\\n",
       "PGP1-1     23.422699  6.506580   7.639236  1.808342  253.147425  2.624415   \n",
       "PGP1-2     12.679506  6.687741   7.457054  1.614225  290.182382  3.276070   \n",
       "PGP1-3      9.314311  6.744241  36.158595  3.626686  118.126815  2.221963   \n",
       "GM23716-1   9.826147  6.570986  32.786094  3.988325  103.634970  2.459700   \n",
       "GM23716-2   4.147004  5.990253  55.245293  3.849378  111.978695  2.494851   \n",
       "\n",
       "               ASB3      EHD4      NRSN2  \n",
       "PGP1-1     5.473228  9.892221  14.017985  \n",
       "PGP1-2     7.483068  7.377414  11.613564  \n",
       "PGP1-3     5.087976  2.392554  15.666102  \n",
       "GM23716-1  4.626596  2.301205  16.500382  \n",
       "GM23716-2  4.843815  2.285043  18.534124  \n",
       "\n",
       "[5 rows x 11201 columns]"
      ]
     },
     "execution_count": 2,
     "metadata": {},
     "output_type": "execute_result"
    }
   ],
   "source": [
    "df = pd.read_csv('new_fpkm_threshold.csv', header=0, index_col = 0)\n",
    "df.head()"
   ]
  },
  {
   "cell_type": "markdown",
   "id": "e7aa2824-65e3-4602-aacc-775e8e054891",
   "metadata": {},
   "source": [
    "### Split Data\n",
    "\n",
    "Split data frame into target and features\n",
    "Split datat into training and testing data"
   ]
  },
  {
   "cell_type": "code",
   "execution_count": 3,
   "id": "c771c10c-8cab-49c3-9eed-6ff0843e1092",
   "metadata": {},
   "outputs": [],
   "source": [
    "y = df.Autism      #target\n",
    "x = df.iloc[:,1:]  #features"
   ]
  },
  {
   "cell_type": "code",
   "execution_count": 4,
   "id": "e08cd149-8a0f-43ba-bb8d-a03b19ae6f4c",
   "metadata": {},
   "outputs": [],
   "source": [
    "#import library\n",
    "from sklearn.model_selection import train_test_split\n",
    "\n",
    "#split training and testing data\n",
    "x_train, x_test, y_train, y_test = train_test_split(x, y, test_size=.33, random_state=0)"
   ]
  },
  {
   "cell_type": "markdown",
   "id": "9fb32991-5120-4a06-9480-37d95204ed9e",
   "metadata": {},
   "source": [
    "# Model Testing\n",
    "Create different baseline models with RNA data.\n",
    "Initial analysis before diving deeper to create a more in-depth model"
   ]
  },
  {
   "cell_type": "code",
   "execution_count": 5,
   "id": "e82311e3-6cc3-43c1-8169-3613790a4fcd",
   "metadata": {
    "tags": []
   },
   "outputs": [
    {
     "name": "stdout",
     "output_type": "stream",
     "text": [
      "Model Accuracy: 70.83333333333334\n",
      "|--- PAGR1 <= 5.16\n",
      "|   |--- PM20D2 <= 1.97\n",
      "|   |   |--- class: 1\n",
      "|   |--- PM20D2 >  1.97\n",
      "|   |   |--- class: 2\n",
      "|--- PAGR1 >  5.16\n",
      "|   |--- PRKCE <= 2.09\n",
      "|   |   |--- class: 1\n",
      "|   |--- PRKCE >  2.09\n",
      "|   |   |--- S1PR3 <= 1.78\n",
      "|   |   |   |--- class: 1\n",
      "|   |   |--- S1PR3 >  1.78\n",
      "|   |   |   |--- class: 0\n",
      "\n"
     ]
    },
    {
     "data": {
      "image/png": "[encoded data removed]",
      "text/plain": [
       "<Figure size 432x288 with 1 Axes>"
      ]
     },
     "metadata": {
      "needs_background": "light"
     },
     "output_type": "display_data"
    }
   ],
   "source": [
    "from sklearn.tree import DecisionTreeClassifier, plot_tree\n",
    "from sklearn.tree import export_text\n",
    "from sklearn.metrics import accuracy_score\n",
    "\n",
    "feature_names=[i for i in x.columns]\n",
    "\n",
    "dt = DecisionTreeClassifier(criterion='entropy', splitter='best',random_state=0)\n",
    "dt.fit(x_train,y_train)\n",
    "dt_prediction = dt.predict(x_test)\n",
    "\n",
    "dt_accuracy = accuracy_score(y_test, dt_prediction)\n",
    "print('Model Accuracy: {}'.format(dt_accuracy*100))\n",
    "plot_tree(dt,filled=True)\n",
    "print(export_text(dt, feature_names=feature_names))"
   ]
  },
  {
   "cell_type": "code",
   "execution_count": 6,
   "id": "80cd7870-9d85-4172-83bc-6fe08363e637",
   "metadata": {},
   "outputs": [
    {
     "name": "stdout",
     "output_type": "stream",
     "text": [
      "Model Accuracy: 62.5\n"
     ]
    },
    {
     "data": {
      "text/plain": [
       "[<matplotlib.lines.Line2D at 0x1f1aa17ed30>]"
      ]
     },
     "execution_count": 6,
     "metadata": {},
     "output_type": "execute_result"
    },
    {
     "data": {
      "image/png": "[encoded data removed]",
      "text/plain": [
       "<Figure size 432x288 with 1 Axes>"
      ]
     },
     "metadata": {
      "needs_background": "light"
     },
     "output_type": "display_data"
    }
   ],
   "source": [
    "from sklearn.neural_network import MLPClassifier\n",
    "\n",
    "nn = MLPClassifier(alpha=0.001,max_iter=100000000)\n",
    "nn.fit(x_train,y_train)\n",
    "nn_prediction= nn.predict(x_test)\n",
    "\n",
    "nn_accuracy = accuracy_score(y_test, nn_prediction.round())\n",
    "\n",
    "print('Model Accuracy: {}'.format(nn_accuracy*100))\n",
    "plt.plot(nn.loss_curve_)"
   ]
  },
  {
   "cell_type": "code",
   "execution_count": 7,
   "id": "bf04af17-1a55-4db3-ad0f-2cdb299c81ba",
   "metadata": {},
   "outputs": [
    {
     "name": "stdout",
     "output_type": "stream",
     "text": [
      "Model Accuracy: 79.16666666666666\n"
     ]
    }
   ],
   "source": [
    "from sklearn.ensemble import RandomForestClassifier\n",
    "\n",
    "rf = RandomForestClassifier(random_state=1)\n",
    "rf.fit(x_train, y_train)\n",
    "rf_prediction = rf.predict(x_test)\n",
    "rf_accuracy = accuracy_score(y_test, rf_prediction.round())\n",
    "print('Model Accuracy: {}'.format(rf_accuracy*100))"
   ]
  },
  {
   "cell_type": "code",
   "execution_count": 8,
   "id": "c778ef8c-271f-46c0-8a1c-8167c5c41ffd",
   "metadata": {},
   "outputs": [
    {
     "name": "stdout",
     "output_type": "stream",
     "text": [
      "Model Accuracy: 54.166666666666664\n"
     ]
    }
   ],
   "source": [
    "from sklearn.neighbors import KNeighborsClassifier\n",
    "knn = KNeighborsClassifier()\n",
    "knn.fit(x_train, y_train)\n",
    "knn_prediction = knn.predict(x_test)\n",
    "knn_accuracy = accuracy_score(y_test, knn_prediction.round())\n",
    "print('Model Accuracy: {}'.format(knn_accuracy*100))"
   ]
  },
  {
   "cell_type": "code",
   "execution_count": null,
   "id": "c88c135d-a927-4e11-8b6e-882a5d39bc26",
   "metadata": {},
   "outputs": [],
   "source": []
  }
 ],
 "metadata": {
  "kernelspec": {
   "display_name": "Python 3",
   "language": "python",
   "name": "python3"
  },
  "language_info": {
   "codemirror_mode": {
    "name": "ipython",
    "version": 3
   },
   "file_extension": ".py",
   "mimetype": "text/x-python",
   "name": "python",
   "nbconvert_exporter": "python",
   "pygments_lexer": "ipython3",
   "version": "3.9.4"
  }
 },
 "nbformat": 4,
 "nbformat_minor": 5
}
