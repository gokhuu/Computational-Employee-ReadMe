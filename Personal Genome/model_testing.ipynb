{
 "cells": [
  {
   "cell_type": "code",
   "execution_count": 3,
   "metadata": {},
   "outputs": [],
   "source": [
    "#import libraries\n",
    "import numpy as np\n",
    "import pandas as pd "
   ]
  },
  {
   "cell_type": "code",
   "execution_count": 4,
   "metadata": {},
   "outputs": [
    {
     "name": "stdout",
     "output_type": "stream",
     "text": [
      "          Autism  CDK5RAP1    TMEM246       PKD1     EDEM1      LSM11  \\\n",
      "PGP1-1        No  5.561823   9.167399   4.762467  4.259699   3.333153   \n",
      "PGP1-2        No  2.050032   6.121957   3.086031  3.888580   3.064389   \n",
      "PGP1-3        No  2.481599  14.205795   8.663784  2.988719  13.747564   \n",
      "GM23716-1     No  4.396121  15.263531   8.198981  3.433083  13.873706   \n",
      "GM23716-2     No  3.721746  14.125613  10.278191  3.331196  13.211928   \n",
      "\n",
      "            COL26A1      CPSF6      DCTN5     MRPS33  ...      UBE2T  \\\n",
      "PGP1-1     5.245319  15.288924  10.670947  15.418737  ...  36.320081   \n",
      "PGP1-2     4.530108  14.225061  11.109630  21.596005  ...  19.707959   \n",
      "PGP1-3     6.189141  18.021990  15.850792   9.871680  ...  15.002978   \n",
      "GM23716-1  5.018456  17.714552  15.832140   4.594193  ...  13.609106   \n",
      "GM23716-2  5.620373  15.806883  15.434513   7.544800  ...  13.346974   \n",
      "\n",
      "                PTK7    EIF2B3      CDK16  C15orf61       GSTP1       IPP  \\\n",
      "PGP1-1     23.422699  6.506580   7.639236  1.808342  253.147425  2.624415   \n",
      "PGP1-2     12.679506  6.687741   7.457054  1.614225  290.182382  3.276070   \n",
      "PGP1-3      9.314311  6.744241  36.158595  3.626686  118.126815  2.221963   \n",
      "GM23716-1   9.826147  6.570986  32.786094  3.988325  103.634970  2.459700   \n",
      "GM23716-2   4.147004  5.990253  55.245293  3.849378  111.978695  2.494851   \n",
      "\n",
      "               ASB3      EHD4      NRSN2  \n",
      "PGP1-1     5.473228  9.892221  14.017985  \n",
      "PGP1-2     7.483068  7.377414  11.613564  \n",
      "PGP1-3     5.087976  2.392554  15.666102  \n",
      "GM23716-1  4.626596  2.301205  16.500382  \n",
      "GM23716-2  4.843815  2.285043  18.534124  \n",
      "\n",
      "[5 rows x 11301 columns]\n"
     ]
    }
   ],
   "source": [
    "#import raw data\n",
    "df = pd.read_csv('Organoid Files/all_autism_fpkm_T.csv', header=0, index_col=0)\n",
    "print(df.head())"
   ]
  },
  {
   "cell_type": "code",
   "execution_count": 5,
   "metadata": {},
   "outputs": [
    {
     "name": "stdout",
     "output_type": "stream",
     "text": [
      "PGP1-1         No\n",
      "PGP1-2         No\n",
      "PGP1-3         No\n",
      "GM23716-1      No\n",
      "GM23716-2      No\n",
      "             ... \n",
      "14781x16-1    Yes\n",
      "14781x16-2    Yes\n",
      "14781x16-3    Yes\n",
      "14746x8-1     Yes\n",
      "14746x8-2     Yes\n",
      "Name: Autism, Length: 71, dtype: object\n",
      "            CDK5RAP1    TMEM246       PKD1     EDEM1      LSM11   COL26A1  \\\n",
      "PGP1-1      5.561823   9.167399   4.762467  4.259699   3.333153  5.245319   \n",
      "PGP1-2      2.050032   6.121957   3.086031  3.888580   3.064389  4.530108   \n",
      "PGP1-3      2.481599  14.205795   8.663784  2.988719  13.747564  6.189141   \n",
      "GM23716-1   4.396121  15.263531   8.198981  3.433083  13.873706  5.018456   \n",
      "GM23716-2   3.721746  14.125613  10.278191  3.331196  13.211928  5.620373   \n",
      "...              ...        ...        ...       ...        ...       ...   \n",
      "14781x16-1  6.384259   7.771520   7.071175  3.297171   5.224131  4.838935   \n",
      "14781x16-2  3.128289   8.186893   9.025883  4.009783   4.728078  6.729686   \n",
      "14781x16-3  7.880060   4.857521   7.076191  4.097137   5.166222  5.299588   \n",
      "14746x8-1   3.388043   3.334954  10.996357  1.545692   1.109277  6.404090   \n",
      "14746x8-2   3.623195   6.834265   3.154569  3.818004   3.262106  4.399106   \n",
      "\n",
      "                CPSF6      DCTN5     MRPS33      COPS8  ...      UBE2T  \\\n",
      "PGP1-1      15.288924  10.670947  15.418737  26.492518  ...  36.320081   \n",
      "PGP1-2      14.225061  11.109630  21.596005  23.446239  ...  19.707959   \n",
      "PGP1-3      18.021990  15.850792   9.871680  32.272768  ...  15.002978   \n",
      "GM23716-1   17.714552  15.832140   4.594193  30.869273  ...  13.609106   \n",
      "GM23716-2   15.806883  15.434513   7.544800  24.221830  ...  13.346974   \n",
      "...               ...        ...        ...        ...  ...        ...   \n",
      "14781x16-1  16.391965  13.168677   9.170113  23.544437  ...  23.827240   \n",
      "14781x16-2  13.232519  10.730565   5.805684  18.649314  ...  15.109922   \n",
      "14781x16-3  21.528132  11.529954  13.647595  22.095454  ...  24.614361   \n",
      "14746x8-1    4.283906   2.709484   7.187927   9.226015  ...  35.300336   \n",
      "14746x8-2   15.213019  10.777413  18.043668  23.712450  ...  25.649829   \n",
      "\n",
      "                 PTK7    EIF2B3      CDK16  C15orf61       GSTP1       IPP  \\\n",
      "PGP1-1      23.422699  6.506580   7.639236  1.808342  253.147425  2.624415   \n",
      "PGP1-2      12.679506  6.687741   7.457054  1.614225  290.182382  3.276070   \n",
      "PGP1-3       9.314311  6.744241  36.158595  3.626686  118.126815  2.221963   \n",
      "GM23716-1    9.826147  6.570986  32.786094  3.988325  103.634970  2.459700   \n",
      "GM23716-2    4.147004  5.990253  55.245293  3.849378  111.978695  2.494851   \n",
      "...               ...       ...        ...       ...         ...       ...   \n",
      "14781x16-1  11.225659  8.583395  16.807080  2.247722  115.635692  1.998373   \n",
      "14781x16-2   6.428226  6.306627  18.606929  2.320908   93.281158  2.860871   \n",
      "14781x16-3   9.036573  6.284167  25.226473  2.000993  180.321536  3.957021   \n",
      "14746x8-1   11.964774  2.285754  44.006054  2.186490  356.445464  1.027271   \n",
      "14746x8-2   23.876904  5.690446  10.509333  2.133355  275.675347  2.857793   \n",
      "\n",
      "                ASB3      EHD4      NRSN2  \n",
      "PGP1-1      5.473228  9.892221  14.017985  \n",
      "PGP1-2      7.483068  7.377414  11.613564  \n",
      "PGP1-3      5.087976  2.392554  15.666102  \n",
      "GM23716-1   4.626596  2.301205  16.500382  \n",
      "GM23716-2   4.843815  2.285043  18.534124  \n",
      "...              ...       ...        ...  \n",
      "14781x16-1  4.476631  2.150457  14.543974  \n",
      "14781x16-2  2.771161  2.254990  10.858082  \n",
      "14781x16-3  5.646545  2.751370  12.931406  \n",
      "14746x8-1   1.624070  2.718903  17.184158  \n",
      "14746x8-2   6.195983  8.082016  11.506148  \n",
      "\n",
      "[71 rows x 11300 columns]\n"
     ]
    }
   ],
   "source": [
    "#create target and dataset\n",
    "y = df.Autism\n",
    "X = df.iloc[:,1:]\n",
    "\n",
    "print(y)\n",
    "print(X)"
   ]
  },
  {
   "cell_type": "code",
   "execution_count": 8,
   "metadata": {},
   "outputs": [
    {
     "name": "stdout",
     "output_type": "stream",
     "text": [
      "(53, 11300)\n",
      "(53,)\n",
      "(18, 11300)\n"
     ]
    }
   ],
   "source": [
    "#create test and train data sets\n",
    "from sklearn.model_selection import train_test_split\n",
    "\n",
    "train_X, test_X, train_y, test_y = train_test_split(X,y, random_state=1)\n",
    "\n",
    "print(train_X.shape)\n",
    "print(train_y.shape)\n",
    "print(test_X.shape)"
   ]
  },
  {
   "cell_type": "code",
   "execution_count": 44,
   "metadata": {},
   "outputs": [
    {
     "name": "stdout",
     "output_type": "stream",
     "text": [
      "100.0\n"
     ]
    }
   ],
   "source": [
    "#raw data\n",
    "#logistic regression\n",
    "from sklearn.linear_model import LogisticRegression\n",
    "logreg = LogisticRegression(max_iter=10000)\n",
    "logreg.fit(train_X, train_y)\n",
    "logreg_pred  = logreg.predict(test_X) \n",
    "acc_log = round(logreg.score(train_X, train_y)*100,2)\n",
    "print(acc_log)"
   ]
  },
  {
   "cell_type": "code",
   "execution_count": 54,
   "metadata": {},
   "outputs": [
    {
     "name": "stdout",
     "output_type": "stream",
     "text": [
      "71.7\n"
     ]
    }
   ],
   "source": [
    "#Support Vector Machine\n",
    "from sklearn.svm import SVC, LinearSVC\n",
    "svc = SVC()\n",
    "svc.fit(train_X,train_y)\n",
    "svc_pred = svc.predict(test_X)\n",
    "acc_svc = round(svc.score(train_X,train_y,)*100,2)\n",
    "print(acc_svc)"
   ]
  },
  {
   "cell_type": "code",
   "execution_count": 68,
   "metadata": {},
   "outputs": [
    {
     "name": "stdout",
     "output_type": "stream",
     "text": [
      "100.0\n"
     ]
    }
   ],
   "source": [
    "from sklearn.ensemble import RandomForestClassifier\n",
    "random_forest = RandomForestClassifier(n_estimators=100)\n",
    "random_forest.fit(train_X, train_y)\n",
    "rf_pred = random_forest.predict(test_X)\n",
    "rf_acc = round(random_forest.score(train_X, train_y)*100,2)\n",
    "print(rf_acc)\n"
   ]
  },
  {
   "cell_type": "code",
   "execution_count": 57,
   "metadata": {},
   "outputs": [
    {
     "name": "stdout",
     "output_type": "stream",
     "text": [
      "86.79\n"
     ]
    }
   ],
   "source": [
    "#K Nearest Neighbor\n",
    "from sklearn.neighbors import KNeighborsClassifier\n",
    "knn = KNeighborsClassifier(n_neighbors=3)\n",
    "knn.fit(train_X, train_y)\n",
    "knn_pred = knn.predict(test_X)\n",
    "acc_knn = round(knn.score(train_X, train_y) * 100,2)\n",
    "print(acc_knn)"
   ]
  },
  {
   "cell_type": "code",
   "execution_count": 59,
   "metadata": {},
   "outputs": [
    {
     "name": "stdout",
     "output_type": "stream",
     "text": [
      "96.23\n"
     ]
    }
   ],
   "source": [
    "from sklearn.naive_bayes import GaussianNB\n",
    "gaussian = GaussianNB()\n",
    "gaussian.fit(train_X, train_y)\n",
    "g_pred = gaussian.predict(test_X)\n",
    "acc_gauss = round(gaussian.score(train_X, train_y)*100,2)\n",
    "print(acc_gauss)"
   ]
  },
  {
   "cell_type": "code",
   "execution_count": 61,
   "metadata": {},
   "outputs": [
    {
     "name": "stdout",
     "output_type": "stream",
     "text": [
      "64.15\n"
     ]
    }
   ],
   "source": [
    "from sklearn.linear_model import Perceptron\n",
    "perceptron = Perceptron()\n",
    "perceptron.fit(train_X,train_y)\n",
    "p_pred = round(perceptron.score(train_X, train_y)*100,2)\n",
    "print(p_pred)"
   ]
  },
  {
   "cell_type": "code",
   "execution_count": 64,
   "metadata": {},
   "outputs": [
    {
     "name": "stdout",
     "output_type": "stream",
     "text": [
      "100.0\n"
     ]
    }
   ],
   "source": [
    "linear_svc = LinearSVC(max_iter=1000000)\n",
    "linear_svc.fit(train_X, train_y)\n",
    "lsvc = linear_svc.predict(test_X)\n",
    "linear_acc = round(linear_svc.score(train_X, train_y)*100,2)\n",
    "print(linear_acc)"
   ]
  },
  {
   "cell_type": "code",
   "execution_count": 65,
   "metadata": {},
   "outputs": [
    {
     "name": "stdout",
     "output_type": "stream",
     "text": [
      "73.58\n"
     ]
    }
   ],
   "source": [
    "from sklearn.linear_model import SGDClassifier\n",
    "sgd = SGDClassifier()\n",
    "sgd.fit(train_X, train_y)\n",
    "sgd_pred = sgd.predict(test_X)\n",
    "sgd_acc = round(sgd.score(train_X, train_y)*100,2)\n",
    "print(sgd_acc)"
   ]
  },
  {
   "cell_type": "code",
   "execution_count": 67,
   "metadata": {},
   "outputs": [
    {
     "name": "stdout",
     "output_type": "stream",
     "text": [
      "100.0\n"
     ]
    }
   ],
   "source": [
    "from sklearn.tree import DecisionTreeClassifier\n",
    "dt = DecisionTreeClassifier()\n",
    "dt.fit(train_X, train_y)\n",
    "dt_pred = dt.predict(test_X)\n",
    "dt_acc = round(dt.score(train_X, train_y)*100,2)\n",
    "print(dt_acc)"
   ]
  },
  {
   "cell_type": "code",
   "execution_count": 17,
   "metadata": {},
   "outputs": [
    {
     "ename": "UnimplementedError",
     "evalue": " Cast string to float is not supported\n\t [[node mean_absolute_error/Cast (defined at <ipython-input-17-0dd5d9d88b1c>:17) ]] [Op:__inference_train_function_5400]\n\nFunction call stack:\ntrain_function\n",
     "output_type": "error",
     "traceback": [
      "\u001b[1;31m---------------------------------------------------------------------------\u001b[0m",
      "\u001b[1;31mUnimplementedError\u001b[0m                        Traceback (most recent call last)",
      "\u001b[1;32m<ipython-input-17-0dd5d9d88b1c>\u001b[0m in \u001b[0;36m<module>\u001b[1;34m\u001b[0m\n\u001b[0;32m     15\u001b[0m )\n\u001b[0;32m     16\u001b[0m \u001b[1;33m\u001b[0m\u001b[0m\n\u001b[1;32m---> 17\u001b[1;33m \u001b[0mclf\u001b[0m\u001b[1;33m.\u001b[0m\u001b[0mfit\u001b[0m\u001b[1;33m(\u001b[0m\u001b[0mtrain_X\u001b[0m\u001b[1;33m,\u001b[0m\u001b[0mtrain_y\u001b[0m\u001b[1;33m,\u001b[0m\u001b[0mepochs\u001b[0m \u001b[1;33m=\u001b[0m \u001b[1;36m1\u001b[0m\u001b[1;33m)\u001b[0m\u001b[1;33m\u001b[0m\u001b[0m\n\u001b[0m\u001b[0;32m     18\u001b[0m \u001b[0mprint\u001b[0m\u001b[1;33m(\u001b[0m\u001b[1;33m(\u001b[0m\u001b[0mclf\u001b[0m\u001b[1;33m.\u001b[0m\u001b[0mevaluate\u001b[0m\u001b[1;33m(\u001b[0m\u001b[0mtrain_X\u001b[0m\u001b[1;33m,\u001b[0m\u001b[0mtrain_y\u001b[0m\u001b[1;33m)\u001b[0m\u001b[1;33m)\u001b[0m\u001b[1;33m*\u001b[0m\u001b[1;36m100\u001b[0m\u001b[1;33m)\u001b[0m\u001b[1;33m\u001b[0m\u001b[0m\n",
      "\u001b[1;32mc:\\users\\khuub\\appdata\\local\\programs\\python\\python36\\lib\\site-packages\\tensorflow\\python\\keras\\engine\\training.py\u001b[0m in \u001b[0;36mfit\u001b[1;34m(self, x, y, batch_size, epochs, verbose, callbacks, validation_split, validation_data, shuffle, class_weight, sample_weight, initial_epoch, steps_per_epoch, validation_steps, validation_batch_size, validation_freq, max_queue_size, workers, use_multiprocessing)\u001b[0m\n\u001b[0;32m   1098\u001b[0m                 _r=1):\n\u001b[0;32m   1099\u001b[0m               \u001b[0mcallbacks\u001b[0m\u001b[1;33m.\u001b[0m\u001b[0mon_train_batch_begin\u001b[0m\u001b[1;33m(\u001b[0m\u001b[0mstep\u001b[0m\u001b[1;33m)\u001b[0m\u001b[1;33m\u001b[0m\u001b[0m\n\u001b[1;32m-> 1100\u001b[1;33m               \u001b[0mtmp_logs\u001b[0m \u001b[1;33m=\u001b[0m \u001b[0mself\u001b[0m\u001b[1;33m.\u001b[0m\u001b[0mtrain_function\u001b[0m\u001b[1;33m(\u001b[0m\u001b[0miterator\u001b[0m\u001b[1;33m)\u001b[0m\u001b[1;33m\u001b[0m\u001b[0m\n\u001b[0m\u001b[0;32m   1101\u001b[0m               \u001b[1;32mif\u001b[0m \u001b[0mdata_handler\u001b[0m\u001b[1;33m.\u001b[0m\u001b[0mshould_sync\u001b[0m\u001b[1;33m:\u001b[0m\u001b[1;33m\u001b[0m\u001b[0m\n\u001b[0;32m   1102\u001b[0m                 \u001b[0mcontext\u001b[0m\u001b[1;33m.\u001b[0m\u001b[0masync_wait\u001b[0m\u001b[1;33m(\u001b[0m\u001b[1;33m)\u001b[0m\u001b[1;33m\u001b[0m\u001b[0m\n",
      "\u001b[1;32mc:\\users\\khuub\\appdata\\local\\programs\\python\\python36\\lib\\site-packages\\tensorflow\\python\\eager\\def_function.py\u001b[0m in \u001b[0;36m__call__\u001b[1;34m(self, *args, **kwds)\u001b[0m\n\u001b[0;32m    826\u001b[0m     \u001b[0mtracing_count\u001b[0m \u001b[1;33m=\u001b[0m \u001b[0mself\u001b[0m\u001b[1;33m.\u001b[0m\u001b[0mexperimental_get_tracing_count\u001b[0m\u001b[1;33m(\u001b[0m\u001b[1;33m)\u001b[0m\u001b[1;33m\u001b[0m\u001b[0m\n\u001b[0;32m    827\u001b[0m     \u001b[1;32mwith\u001b[0m \u001b[0mtrace\u001b[0m\u001b[1;33m.\u001b[0m\u001b[0mTrace\u001b[0m\u001b[1;33m(\u001b[0m\u001b[0mself\u001b[0m\u001b[1;33m.\u001b[0m\u001b[0m_name\u001b[0m\u001b[1;33m)\u001b[0m \u001b[1;32mas\u001b[0m \u001b[0mtm\u001b[0m\u001b[1;33m:\u001b[0m\u001b[1;33m\u001b[0m\u001b[0m\n\u001b[1;32m--> 828\u001b[1;33m       \u001b[0mresult\u001b[0m \u001b[1;33m=\u001b[0m \u001b[0mself\u001b[0m\u001b[1;33m.\u001b[0m\u001b[0m_call\u001b[0m\u001b[1;33m(\u001b[0m\u001b[1;33m*\u001b[0m\u001b[0margs\u001b[0m\u001b[1;33m,\u001b[0m \u001b[1;33m**\u001b[0m\u001b[0mkwds\u001b[0m\u001b[1;33m)\u001b[0m\u001b[1;33m\u001b[0m\u001b[0m\n\u001b[0m\u001b[0;32m    829\u001b[0m       \u001b[0mcompiler\u001b[0m \u001b[1;33m=\u001b[0m \u001b[1;34m\"xla\"\u001b[0m \u001b[1;32mif\u001b[0m \u001b[0mself\u001b[0m\u001b[1;33m.\u001b[0m\u001b[0m_experimental_compile\u001b[0m \u001b[1;32melse\u001b[0m \u001b[1;34m\"nonXla\"\u001b[0m\u001b[1;33m\u001b[0m\u001b[0m\n\u001b[0;32m    830\u001b[0m       \u001b[0mnew_tracing_count\u001b[0m \u001b[1;33m=\u001b[0m \u001b[0mself\u001b[0m\u001b[1;33m.\u001b[0m\u001b[0mexperimental_get_tracing_count\u001b[0m\u001b[1;33m(\u001b[0m\u001b[1;33m)\u001b[0m\u001b[1;33m\u001b[0m\u001b[0m\n",
      "\u001b[1;32mc:\\users\\khuub\\appdata\\local\\programs\\python\\python36\\lib\\site-packages\\tensorflow\\python\\eager\\def_function.py\u001b[0m in \u001b[0;36m_call\u001b[1;34m(self, *args, **kwds)\u001b[0m\n\u001b[0;32m    886\u001b[0m         \u001b[1;31m# Lifting succeeded, so variables are initialized and we can run the\u001b[0m\u001b[1;33m\u001b[0m\u001b[1;33m\u001b[0m\u001b[0m\n\u001b[0;32m    887\u001b[0m         \u001b[1;31m# stateless function.\u001b[0m\u001b[1;33m\u001b[0m\u001b[1;33m\u001b[0m\u001b[0m\n\u001b[1;32m--> 888\u001b[1;33m         \u001b[1;32mreturn\u001b[0m \u001b[0mself\u001b[0m\u001b[1;33m.\u001b[0m\u001b[0m_stateless_fn\u001b[0m\u001b[1;33m(\u001b[0m\u001b[1;33m*\u001b[0m\u001b[0margs\u001b[0m\u001b[1;33m,\u001b[0m \u001b[1;33m**\u001b[0m\u001b[0mkwds\u001b[0m\u001b[1;33m)\u001b[0m\u001b[1;33m\u001b[0m\u001b[0m\n\u001b[0m\u001b[0;32m    889\u001b[0m     \u001b[1;32melse\u001b[0m\u001b[1;33m:\u001b[0m\u001b[1;33m\u001b[0m\u001b[0m\n\u001b[0;32m    890\u001b[0m       \u001b[0m_\u001b[0m\u001b[1;33m,\u001b[0m \u001b[0m_\u001b[0m\u001b[1;33m,\u001b[0m \u001b[0m_\u001b[0m\u001b[1;33m,\u001b[0m \u001b[0mfiltered_flat_args\u001b[0m \u001b[1;33m=\u001b[0m\u001b[0;31m \u001b[0m\u001b[0;31m\\\u001b[0m\u001b[1;33m\u001b[0m\u001b[0m\n",
      "\u001b[1;32mc:\\users\\khuub\\appdata\\local\\programs\\python\\python36\\lib\\site-packages\\tensorflow\\python\\eager\\function.py\u001b[0m in \u001b[0;36m__call__\u001b[1;34m(self, *args, **kwargs)\u001b[0m\n\u001b[0;32m   2941\u001b[0m        filtered_flat_args) = self._maybe_define_function(args, kwargs)\n\u001b[0;32m   2942\u001b[0m     return graph_function._call_flat(\n\u001b[1;32m-> 2943\u001b[1;33m         filtered_flat_args, captured_inputs=graph_function.captured_inputs)  # pylint: disable=protected-access\n\u001b[0m\u001b[0;32m   2944\u001b[0m \u001b[1;33m\u001b[0m\u001b[0m\n\u001b[0;32m   2945\u001b[0m   \u001b[1;33m@\u001b[0m\u001b[0mproperty\u001b[0m\u001b[1;33m\u001b[0m\u001b[0m\n",
      "\u001b[1;32mc:\\users\\khuub\\appdata\\local\\programs\\python\\python36\\lib\\site-packages\\tensorflow\\python\\eager\\function.py\u001b[0m in \u001b[0;36m_call_flat\u001b[1;34m(self, args, captured_inputs, cancellation_manager)\u001b[0m\n\u001b[0;32m   1917\u001b[0m       \u001b[1;31m# No tape is watching; skip to running the function.\u001b[0m\u001b[1;33m\u001b[0m\u001b[1;33m\u001b[0m\u001b[0m\n\u001b[0;32m   1918\u001b[0m       return self._build_call_outputs(self._inference_function.call(\n\u001b[1;32m-> 1919\u001b[1;33m           ctx, args, cancellation_manager=cancellation_manager))\n\u001b[0m\u001b[0;32m   1920\u001b[0m     forward_backward = self._select_forward_and_backward_functions(\n\u001b[0;32m   1921\u001b[0m         \u001b[0margs\u001b[0m\u001b[1;33m,\u001b[0m\u001b[1;33m\u001b[0m\u001b[0m\n",
      "\u001b[1;32mc:\\users\\khuub\\appdata\\local\\programs\\python\\python36\\lib\\site-packages\\tensorflow\\python\\eager\\function.py\u001b[0m in \u001b[0;36mcall\u001b[1;34m(self, ctx, args, cancellation_manager)\u001b[0m\n\u001b[0;32m    558\u001b[0m               \u001b[0minputs\u001b[0m\u001b[1;33m=\u001b[0m\u001b[0margs\u001b[0m\u001b[1;33m,\u001b[0m\u001b[1;33m\u001b[0m\u001b[0m\n\u001b[0;32m    559\u001b[0m               \u001b[0mattrs\u001b[0m\u001b[1;33m=\u001b[0m\u001b[0mattrs\u001b[0m\u001b[1;33m,\u001b[0m\u001b[1;33m\u001b[0m\u001b[0m\n\u001b[1;32m--> 560\u001b[1;33m               ctx=ctx)\n\u001b[0m\u001b[0;32m    561\u001b[0m         \u001b[1;32melse\u001b[0m\u001b[1;33m:\u001b[0m\u001b[1;33m\u001b[0m\u001b[0m\n\u001b[0;32m    562\u001b[0m           outputs = execute.execute_with_cancellation(\n",
      "\u001b[1;32mc:\\users\\khuub\\appdata\\local\\programs\\python\\python36\\lib\\site-packages\\tensorflow\\python\\eager\\execute.py\u001b[0m in \u001b[0;36mquick_execute\u001b[1;34m(op_name, num_outputs, inputs, attrs, ctx, name)\u001b[0m\n\u001b[0;32m     58\u001b[0m     \u001b[0mctx\u001b[0m\u001b[1;33m.\u001b[0m\u001b[0mensure_initialized\u001b[0m\u001b[1;33m(\u001b[0m\u001b[1;33m)\u001b[0m\u001b[1;33m\u001b[0m\u001b[0m\n\u001b[0;32m     59\u001b[0m     tensors = pywrap_tfe.TFE_Py_Execute(ctx._handle, device_name, op_name,\n\u001b[1;32m---> 60\u001b[1;33m                                         inputs, attrs, num_outputs)\n\u001b[0m\u001b[0;32m     61\u001b[0m   \u001b[1;32mexcept\u001b[0m \u001b[0mcore\u001b[0m\u001b[1;33m.\u001b[0m\u001b[0m_NotOkStatusException\u001b[0m \u001b[1;32mas\u001b[0m \u001b[0me\u001b[0m\u001b[1;33m:\u001b[0m\u001b[1;33m\u001b[0m\u001b[0m\n\u001b[0;32m     62\u001b[0m     \u001b[1;32mif\u001b[0m \u001b[0mname\u001b[0m \u001b[1;32mis\u001b[0m \u001b[1;32mnot\u001b[0m \u001b[1;32mNone\u001b[0m\u001b[1;33m:\u001b[0m\u001b[1;33m\u001b[0m\u001b[0m\n",
      "\u001b[1;31mUnimplementedError\u001b[0m:  Cast string to float is not supported\n\t [[node mean_absolute_error/Cast (defined at <ipython-input-17-0dd5d9d88b1c>:17) ]] [Op:__inference_train_function_5400]\n\nFunction call stack:\ntrain_function\n"
     ]
    }
   ],
   "source": [
    "from tensorflow import keras\n",
    "from tensorflow.keras import layers\n",
    "\n",
    "clf = keras.Sequential([\n",
    "    layers.Dense(units=4, activation='relu',kernel_initializer='random_normal',input_shape=[11300]),\n",
    "    layers.Dense(units=3, activation='relu',kernel_initializer='random_normal'),\n",
    "    layers.Dense(units=3,activation='relu',kernel_initializer='random_normal'),\n",
    "    layers.Dense(units=1,kernel_initializer='random_normal')\n",
    "])\n",
    "\n",
    "clf.compile(\n",
    "    optimizer='adam',\n",
    "    loss = 'mae',\n",
    "    metrics=['accuracy']\n",
    ")\n",
    "\n",
    "clf.fit(train_X,train_y,epochs = 1)\n",
    "print((clf.evaluate(train_X,train_y))*100)"
   ]
  }
 ],
 "metadata": {
  "kernelspec": {
   "display_name": "Python 3",
   "language": "python",
   "name": "python3"
  },
  "language_info": {
   "codemirror_mode": {
    "name": "ipython",
    "version": 3
   },
   "file_extension": ".py",
   "mimetype": "text/x-python",
   "name": "python",
   "nbconvert_exporter": "python",
   "pygments_lexer": "ipython3",
   "version": "3.6.5"
  }
 },
 "nbformat": 4,
 "nbformat_minor": 4
}
