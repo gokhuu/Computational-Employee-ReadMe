{
 "cells": [
  {
   "cell_type": "markdown",
   "id": "034d1aed-ff0d-4c4c-b2e7-580f446a57a1",
   "metadata": {},
   "source": [
    "# Cross Fold Validation Neural Network\n",
    "By Brandon Khuu\n",
    "Last updated: 5/4/2021\n",
    "\n",
    "### Goal\n",
    "The goal of this model is to create a neural network that would be able to classify whether a patient did or did not have Autism based on mRNA data(FPKM reads).  \n",
    "\n",
    "The data was from Elaine Lim Lab."
   ]
  },
  {
   "cell_type": "code",
   "execution_count": 1,
   "id": "664ffd09-b695-46e9-bdb8-9fb20e72154c",
   "metadata": {},
   "outputs": [],
   "source": [
    "#import libraries \n",
    "import numpy as np\n",
    "import pandas as pd \n",
    "import matplotlib.pyplot as plt\n",
    "import seaborn as sns"
   ]
  },
  {
   "cell_type": "markdown",
   "id": "ff703295-cd4b-4c42-b4ea-42338025f395",
   "metadata": {},
   "source": [
    "## Import Data\n",
    "\n",
    "Data that is import was cleaned and preprocess in the data_preprocessing.py<br>\n",
    "The data was raw fpkm mRNA reads that were cleaned by applying a threshold and outliers were removed.\n",
    "\n",
    "The threshold applied was if the FPKM read has a mean of at least 2. Any read that was below 2 was filterd out.\n",
    "\n",
    "After a threshold was applied, outliers were removed by creating a mathmatical filter.  Any reads that were above the function IQR*1.5 were assumed to be an outlier and removed."
   ]
  },
  {
   "cell_type": "code",
   "execution_count": 2,
   "id": "dbb3c198",
   "metadata": {
    "scrolled": true
   },
   "outputs": [
    {
     "data": {
      "text/html": [
       "<div>\n",
       "<style scoped>\n",
       "    .dataframe tbody tr th:only-of-type {\n",
       "        vertical-align: middle;\n",
       "    }\n",
       "\n",
       "    .dataframe tbody tr th {\n",
       "        vertical-align: top;\n",
       "    }\n",
       "\n",
       "    .dataframe thead th {\n",
       "        text-align: right;\n",
       "    }\n",
       "</style>\n",
       "<table border=\"1\" class=\"dataframe\">\n",
       "  <thead>\n",
       "    <tr style=\"text-align: right;\">\n",
       "      <th></th>\n",
       "      <th>Autism</th>\n",
       "      <th>CDK5RAP1</th>\n",
       "      <th>TMEM246</th>\n",
       "      <th>PKD1</th>\n",
       "      <th>EDEM1</th>\n",
       "      <th>LSM11</th>\n",
       "      <th>COL26A1</th>\n",
       "      <th>CPSF6</th>\n",
       "      <th>DCTN5</th>\n",
       "      <th>TIMM9</th>\n",
       "      <th>...</th>\n",
       "      <th>NHLRC3</th>\n",
       "      <th>CCDC130</th>\n",
       "      <th>PIK3C3</th>\n",
       "      <th>PRKAB2</th>\n",
       "      <th>EIF2B3</th>\n",
       "      <th>C15orf61</th>\n",
       "      <th>IPP</th>\n",
       "      <th>ASB3</th>\n",
       "      <th>EHD4</th>\n",
       "      <th>NRSN2</th>\n",
       "    </tr>\n",
       "  </thead>\n",
       "  <tbody>\n",
       "    <tr>\n",
       "      <th>PGP1-1</th>\n",
       "      <td>0.0</td>\n",
       "      <td>5.561823</td>\n",
       "      <td>9.167399</td>\n",
       "      <td>4.762467</td>\n",
       "      <td>4.259699</td>\n",
       "      <td>3.333153</td>\n",
       "      <td>5.245319</td>\n",
       "      <td>15.288924</td>\n",
       "      <td>10.670947</td>\n",
       "      <td>12.501312</td>\n",
       "      <td>...</td>\n",
       "      <td>3.577807</td>\n",
       "      <td>10.246243</td>\n",
       "      <td>9.379072</td>\n",
       "      <td>7.974797</td>\n",
       "      <td>6.506580</td>\n",
       "      <td>1.808342</td>\n",
       "      <td>2.624415</td>\n",
       "      <td>5.473228</td>\n",
       "      <td>9.892221</td>\n",
       "      <td>14.017985</td>\n",
       "    </tr>\n",
       "    <tr>\n",
       "      <th>PGP1-2</th>\n",
       "      <td>0.0</td>\n",
       "      <td>2.050032</td>\n",
       "      <td>6.121957</td>\n",
       "      <td>3.086031</td>\n",
       "      <td>3.888580</td>\n",
       "      <td>3.064389</td>\n",
       "      <td>4.530108</td>\n",
       "      <td>14.225061</td>\n",
       "      <td>11.109630</td>\n",
       "      <td>14.227982</td>\n",
       "      <td>...</td>\n",
       "      <td>2.951153</td>\n",
       "      <td>8.455335</td>\n",
       "      <td>13.197261</td>\n",
       "      <td>7.847511</td>\n",
       "      <td>6.687741</td>\n",
       "      <td>1.614225</td>\n",
       "      <td>3.276070</td>\n",
       "      <td>7.483068</td>\n",
       "      <td>7.377414</td>\n",
       "      <td>11.613564</td>\n",
       "    </tr>\n",
       "    <tr>\n",
       "      <th>PGP1-3</th>\n",
       "      <td>0.0</td>\n",
       "      <td>2.481599</td>\n",
       "      <td>14.205795</td>\n",
       "      <td>8.663784</td>\n",
       "      <td>2.988719</td>\n",
       "      <td>13.747564</td>\n",
       "      <td>6.189141</td>\n",
       "      <td>18.021990</td>\n",
       "      <td>15.850792</td>\n",
       "      <td>9.134396</td>\n",
       "      <td>...</td>\n",
       "      <td>3.211442</td>\n",
       "      <td>9.928194</td>\n",
       "      <td>7.313368</td>\n",
       "      <td>9.023667</td>\n",
       "      <td>6.744241</td>\n",
       "      <td>3.626686</td>\n",
       "      <td>2.221963</td>\n",
       "      <td>5.087976</td>\n",
       "      <td>2.392554</td>\n",
       "      <td>15.666102</td>\n",
       "    </tr>\n",
       "    <tr>\n",
       "      <th>GM23716-1</th>\n",
       "      <td>0.0</td>\n",
       "      <td>4.396121</td>\n",
       "      <td>15.263531</td>\n",
       "      <td>8.198981</td>\n",
       "      <td>3.433083</td>\n",
       "      <td>13.873706</td>\n",
       "      <td>5.018456</td>\n",
       "      <td>17.714552</td>\n",
       "      <td>15.832140</td>\n",
       "      <td>8.492397</td>\n",
       "      <td>...</td>\n",
       "      <td>3.052629</td>\n",
       "      <td>9.895930</td>\n",
       "      <td>7.927309</td>\n",
       "      <td>9.817574</td>\n",
       "      <td>6.570986</td>\n",
       "      <td>3.988325</td>\n",
       "      <td>2.459700</td>\n",
       "      <td>4.626596</td>\n",
       "      <td>2.301205</td>\n",
       "      <td>16.500382</td>\n",
       "    </tr>\n",
       "    <tr>\n",
       "      <th>GM23716-2</th>\n",
       "      <td>0.0</td>\n",
       "      <td>3.721746</td>\n",
       "      <td>14.125613</td>\n",
       "      <td>10.278191</td>\n",
       "      <td>3.331196</td>\n",
       "      <td>13.211928</td>\n",
       "      <td>5.620373</td>\n",
       "      <td>15.806883</td>\n",
       "      <td>15.434513</td>\n",
       "      <td>8.410669</td>\n",
       "      <td>...</td>\n",
       "      <td>2.743381</td>\n",
       "      <td>9.354041</td>\n",
       "      <td>8.525394</td>\n",
       "      <td>8.338526</td>\n",
       "      <td>5.990253</td>\n",
       "      <td>3.849378</td>\n",
       "      <td>2.494851</td>\n",
       "      <td>4.843815</td>\n",
       "      <td>2.285043</td>\n",
       "      <td>18.534124</td>\n",
       "    </tr>\n",
       "  </tbody>\n",
       "</table>\n",
       "<p>5 rows × 8164 columns</p>\n",
       "</div>"
      ],
      "text/plain": [
       "           Autism  CDK5RAP1    TMEM246       PKD1     EDEM1      LSM11  \\\n",
       "PGP1-1        0.0  5.561823   9.167399   4.762467  4.259699   3.333153   \n",
       "PGP1-2        0.0  2.050032   6.121957   3.086031  3.888580   3.064389   \n",
       "PGP1-3        0.0  2.481599  14.205795   8.663784  2.988719  13.747564   \n",
       "GM23716-1     0.0  4.396121  15.263531   8.198981  3.433083  13.873706   \n",
       "GM23716-2     0.0  3.721746  14.125613  10.278191  3.331196  13.211928   \n",
       "\n",
       "            COL26A1      CPSF6      DCTN5      TIMM9  ...    NHLRC3  \\\n",
       "PGP1-1     5.245319  15.288924  10.670947  12.501312  ...  3.577807   \n",
       "PGP1-2     4.530108  14.225061  11.109630  14.227982  ...  2.951153   \n",
       "PGP1-3     6.189141  18.021990  15.850792   9.134396  ...  3.211442   \n",
       "GM23716-1  5.018456  17.714552  15.832140   8.492397  ...  3.052629   \n",
       "GM23716-2  5.620373  15.806883  15.434513   8.410669  ...  2.743381   \n",
       "\n",
       "             CCDC130     PIK3C3    PRKAB2    EIF2B3  C15orf61       IPP  \\\n",
       "PGP1-1     10.246243   9.379072  7.974797  6.506580  1.808342  2.624415   \n",
       "PGP1-2      8.455335  13.197261  7.847511  6.687741  1.614225  3.276070   \n",
       "PGP1-3      9.928194   7.313368  9.023667  6.744241  3.626686  2.221963   \n",
       "GM23716-1   9.895930   7.927309  9.817574  6.570986  3.988325  2.459700   \n",
       "GM23716-2   9.354041   8.525394  8.338526  5.990253  3.849378  2.494851   \n",
       "\n",
       "               ASB3      EHD4      NRSN2  \n",
       "PGP1-1     5.473228  9.892221  14.017985  \n",
       "PGP1-2     7.483068  7.377414  11.613564  \n",
       "PGP1-3     5.087976  2.392554  15.666102  \n",
       "GM23716-1  4.626596  2.301205  16.500382  \n",
       "GM23716-2  4.843815  2.285043  18.534124  \n",
       "\n",
       "[5 rows x 8164 columns]"
      ]
     },
     "execution_count": 2,
     "metadata": {},
     "output_type": "execute_result"
    }
   ],
   "source": [
    "#import data\n",
    "df = pd.read_csv('Organoid Files/all_autism_fpkm_iqr_1.5_outliers.csv', header=0, index_col=0)\n",
    "df.head()"
   ]
  },
  {
   "cell_type": "markdown",
   "id": "dd04bdd1-5366-4925-bac0-5a5993b7919e",
   "metadata": {},
   "source": [
    "## Split data\n",
    "\n",
    "Data is split by target(y) and features(x)"
   ]
  },
  {
   "cell_type": "code",
   "execution_count": 3,
   "id": "2fe6b8a2",
   "metadata": {},
   "outputs": [],
   "source": [
    "#split x and y base\n",
    "y = df.Autism\n",
    "x = df.iloc[:,1:]"
   ]
  },
  {
   "cell_type": "markdown",
   "id": "9ce7ccaf-63fc-43f4-99e6-19a865dcb4f7",
   "metadata": {},
   "source": [
    "## Create Model\n",
    "\n",
    "Import keras from tensor flow to create a neural network model to be trained.<br>\n",
    "Model<br>\n",
    "   -1 input layer<br>\n",
    "   -1 batch normalization<br>\n",
    "   -1 dropout at .2<br>\n",
    "   -output layer<br>\n",
    "Compiled <br>\n",
    "    -optimizer: RMSprop algorithm which maintains a moving discounted average of the square of the gradients and divides the graident by the root of the average.<br>\n",
    "    -loss function: binary cross entropty<br>\n",
    "    -metric: accuracy<br>"
   ]
  },
  {
   "cell_type": "code",
   "execution_count": 4,
   "id": "8afeadfa",
   "metadata": {},
   "outputs": [
    {
     "name": "stdout",
     "output_type": "stream",
     "text": [
      "INFO:tensorflow:Enabling eager execution\n",
      "INFO:tensorflow:Enabling v2 tensorshape\n",
      "INFO:tensorflow:Enabling resource variables\n",
      "INFO:tensorflow:Enabling tensor equality\n",
      "INFO:tensorflow:Enabling control flow v2\n"
     ]
    }
   ],
   "source": [
    "from tensorflow import keras\n",
    "from tensorflow.keras import layers\n",
    "\n",
    "#create early stop\n",
    "early_stop = keras.callbacks.EarlyStopping(monitor='loss',patience=2, verbose=1)\n",
    "\n",
    "#create model\n",
    "model = keras.Sequential([\n",
    "    layers.Dense(units=100, activation='relu',input_shape=[8163]),\n",
    "    #layers.BatchNormalization(),\n",
    "    layers.Dropout(0.3),\n",
    "    layers.Dense(units=1,activation='sigmoid')\n",
    "])\n",
    "\n",
    "#compile model with functions\n",
    "model.compile(\n",
    "    optimizer='adam',\n",
    "    loss='binary_crossentropy',\n",
    "    metrics=['accuracy']\n",
    ")"
   ]
  },
  {
   "cell_type": "markdown",
   "id": "522b0182-8585-4b88-919c-7377e6914037",
   "metadata": {},
   "source": [
    "### Train Model\n",
    "\n",
    "Fit the model with the training data using cross fold validation(kfold). <br>\n",
    "Split data into train and test data using KFold function .split<br>"
   ]
  },
  {
   "cell_type": "code",
   "execution_count": 5,
   "id": "8f224756",
   "metadata": {
    "tags": []
   },
   "outputs": [
    {
     "name": "stdout",
     "output_type": "stream",
     "text": [
      "Epoch 1/100\n",
      "3/3 [==============================] - 1s 100ms/step - loss: 30.5881 - accuracy: 0.5279 - val_loss: 1.6370 - val_accuracy: 0.6667\n",
      "Epoch 2/100\n",
      "3/3 [==============================] - 0s 15ms/step - loss: 11.5776 - accuracy: 0.5668 - val_loss: 24.4313 - val_accuracy: 0.4000\n",
      "Epoch 3/100\n",
      "3/3 [==============================] - 0s 13ms/step - loss: 23.5376 - accuracy: 0.5529 - val_loss: 9.1825 - val_accuracy: 0.4000\n",
      "Epoch 4/100\n",
      "3/3 [==============================] - 0s 15ms/step - loss: 14.2352 - accuracy: 0.4611 - val_loss: 8.6610 - val_accuracy: 0.6000\n",
      "Epoch 00004: early stopping\n",
      "Epoch 1/100\n",
      "3/3 [==============================] - 0s 37ms/step - loss: 10.8945 - accuracy: 0.5789 - val_loss: 1.2966 - val_accuracy: 0.9286\n",
      "Epoch 2/100\n",
      "3/3 [==============================] - 0s 15ms/step - loss: 9.4456 - accuracy: 0.5965 - val_loss: 1.5143 - val_accuracy: 0.8571\n",
      "Epoch 3/100\n",
      "3/3 [==============================] - 0s 12ms/step - loss: 5.4650 - accuracy: 0.6842 - val_loss: 4.6233 - val_accuracy: 0.6429\n",
      "Epoch 4/100\n",
      "3/3 [==============================] - 0s 15ms/step - loss: 6.7798 - accuracy: 0.6140 - val_loss: 2.0150 - val_accuracy: 0.7143\n",
      "Epoch 5/100\n",
      "3/3 [==============================] - 0s 15ms/step - loss: 3.9870 - accuracy: 0.6491 - val_loss: 1.3861 - val_accuracy: 0.8571\n",
      "Epoch 6/100\n",
      "3/3 [==============================] - 0s 15ms/step - loss: 7.0859 - accuracy: 0.5614 - val_loss: 0.1455 - val_accuracy: 0.9286\n",
      "Epoch 7/100\n",
      "3/3 [==============================] - 0s 15ms/step - loss: 1.5013 - accuracy: 0.8070 - val_loss: 1.4995 - val_accuracy: 0.7857\n",
      "Epoch 8/100\n",
      "3/3 [==============================] - 0s 15ms/step - loss: 1.9490 - accuracy: 0.6316 - val_loss: 0.1209 - val_accuracy: 0.9286\n",
      "Epoch 9/100\n",
      "3/3 [==============================] - 0s 13ms/step - loss: 0.7924 - accuracy: 0.7193 - val_loss: 0.0797 - val_accuracy: 1.0000\n",
      "Epoch 10/100\n",
      "3/3 [==============================] - 0s 15ms/step - loss: 0.4511 - accuracy: 0.7895 - val_loss: 0.3090 - val_accuracy: 0.7857\n",
      "Epoch 11/100\n",
      "3/3 [==============================] - 0s 15ms/step - loss: 0.3764 - accuracy: 0.8246 - val_loss: 0.3194 - val_accuracy: 0.8571\n",
      "Epoch 12/100\n",
      "3/3 [==============================] - 0s 15ms/step - loss: 0.3853 - accuracy: 0.8596 - val_loss: 0.2578 - val_accuracy: 0.9286\n",
      "Epoch 13/100\n",
      "3/3 [==============================] - 0s 15ms/step - loss: 0.3544 - accuracy: 0.8421 - val_loss: 0.2192 - val_accuracy: 0.8571\n",
      "Epoch 14/100\n",
      "3/3 [==============================] - 0s 15ms/step - loss: 0.2723 - accuracy: 0.8070 - val_loss: 0.3282 - val_accuracy: 0.8571\n",
      "Epoch 15/100\n",
      "3/3 [==============================] - 0s 15ms/step - loss: 0.5342 - accuracy: 0.7018 - val_loss: 0.3287 - val_accuracy: 0.7857\n",
      "Epoch 16/100\n",
      "3/3 [==============================] - 0s 18ms/step - loss: 0.3490 - accuracy: 0.8421 - val_loss: 0.2368 - val_accuracy: 1.0000\n",
      "Epoch 00016: early stopping\n",
      "Epoch 1/100\n",
      "3/3 [==============================] - 0s 35ms/step - loss: 0.3750 - accuracy: 0.7895 - val_loss: 0.3667 - val_accuracy: 0.7857\n",
      "Epoch 2/100\n",
      "3/3 [==============================] - 0s 10ms/step - loss: 0.3932 - accuracy: 0.8246 - val_loss: 0.2398 - val_accuracy: 0.9286\n",
      "Epoch 3/100\n",
      "3/3 [==============================] - 0s 15ms/step - loss: 0.3468 - accuracy: 0.7895 - val_loss: 0.2748 - val_accuracy: 0.7857\n",
      "Epoch 4/100\n",
      "3/3 [==============================] - 0s 15ms/step - loss: 0.3410 - accuracy: 0.7719 - val_loss: 0.2413 - val_accuracy: 0.9286\n",
      "Epoch 5/100\n",
      "3/3 [==============================] - 0s 10ms/step - loss: 0.2746 - accuracy: 0.8596 - val_loss: 0.2558 - val_accuracy: 1.0000\n",
      "Epoch 6/100\n",
      "3/3 [==============================] - 0s 15ms/step - loss: 0.3315 - accuracy: 0.7895 - val_loss: 0.2485 - val_accuracy: 0.9286\n",
      "Epoch 7/100\n",
      "3/3 [==============================] - 0s 15ms/step - loss: 0.2764 - accuracy: 0.8772 - val_loss: 0.2089 - val_accuracy: 0.9286\n",
      "Epoch 00007: early stopping\n",
      "Epoch 1/100\n",
      "3/3 [==============================] - 0s 35ms/step - loss: 0.3025 - accuracy: 0.8246 - val_loss: 0.2467 - val_accuracy: 0.9286\n",
      "Epoch 2/100\n",
      "3/3 [==============================] - 0s 10ms/step - loss: 0.3361 - accuracy: 0.8246 - val_loss: 0.1650 - val_accuracy: 1.0000\n",
      "Epoch 3/100\n",
      "3/3 [==============================] - 0s 15ms/step - loss: 0.2563 - accuracy: 0.8596 - val_loss: 0.1813 - val_accuracy: 0.9286\n",
      "Epoch 4/100\n",
      "3/3 [==============================] - 0s 13ms/step - loss: 0.3465 - accuracy: 0.8070 - val_loss: 0.2192 - val_accuracy: 0.8571\n",
      "Epoch 5/100\n",
      "3/3 [==============================] - 0s 13ms/step - loss: 0.3287 - accuracy: 0.7544 - val_loss: 0.2559 - val_accuracy: 0.9286\n",
      "Epoch 00005: early stopping\n",
      "Epoch 1/100\n",
      "3/3 [==============================] - 0s 40ms/step - loss: 0.3045 - accuracy: 0.8772 - val_loss: 0.1078 - val_accuracy: 1.0000\n",
      "Epoch 2/100\n",
      "3/3 [==============================] - 0s 15ms/step - loss: 0.3867 - accuracy: 0.7193 - val_loss: 0.1042 - val_accuracy: 1.0000\n",
      "Epoch 3/100\n",
      "3/3 [==============================] - 0s 15ms/step - loss: 0.2265 - accuracy: 0.8947 - val_loss: 0.1541 - val_accuracy: 0.9286\n",
      "Epoch 4/100\n",
      "3/3 [==============================] - 0s 15ms/step - loss: 0.2476 - accuracy: 0.8772 - val_loss: 0.1298 - val_accuracy: 0.9286\n",
      "Epoch 5/100\n",
      "3/3 [==============================] - 0s 15ms/step - loss: 0.2473 - accuracy: 0.8772 - val_loss: 0.1089 - val_accuracy: 1.0000\n",
      "Epoch 00005: early stopping\n"
     ]
    }
   ],
   "source": [
    "#import cross fold validation\n",
    "from sklearn.model_selection import KFold\n",
    "from sklearn.metrics import accuracy_score\n",
    "\n",
    "k = 5 #number of folds\n",
    "\n",
    "#initialize kfold\n",
    "kf = KFold(n_splits=k, random_state=0, shuffle=True)\n",
    "\n",
    "#create empty list to hold scores\n",
    "acc_score = []\n",
    "\n",
    "#split training data\n",
    "for train_index,test_index in kf.split(x):\n",
    "    x_train, x_test = x.iloc[train_index,:], x.iloc[test_index,:]\n",
    "    y_train, y_test = y[train_index], y[test_index]\n",
    "    \n",
    "    #fit model with training data\n",
    "    history = model.fit(x_train, y_train, validation_data=(x_test,y_test),\n",
    "                        batch_size = 25, epochs=100, shuffle=True, callbacks=[early_stop])\n",
    "    pred = model.predict(x_test)\n",
    "    \n",
    "    #record accuracy of each fold\n",
    "    acc = accuracy_score(pred.round(), y_test)\n",
    "    acc_score.append(acc)"
   ]
  },
  {
   "cell_type": "code",
   "execution_count": 6,
   "id": "d91f0a01",
   "metadata": {},
   "outputs": [
    {
     "name": "stdout",
     "output_type": "stream",
     "text": [
      "Accuracy of each fold = [0.6, 1.0, 0.9285714285714286, 0.9285714285714286, 1.0]\n",
      "Avg accuracy = 0.8914285714285715\n"
     ]
    }
   ],
   "source": [
    "#Print accuracy of the model\n",
    "avg_score = sum(acc_score)/k\n",
    "print('Accuracy of each fold = {}'.format(acc_score))\n",
    "print('Avg accuracy = {}'.format(avg_score))"
   ]
  },
  {
   "cell_type": "code",
   "execution_count": 7,
   "id": "a1ce713a-8729-44e5-bece-54b41c051c8c",
   "metadata": {},
   "outputs": [
    {
     "data": {
      "image/png": "[encoded data removed]",
      "text/plain": [
       "<Figure size 432x288 with 1 Axes>"
      ]
     },
     "metadata": {
      "needs_background": "light"
     },
     "output_type": "display_data"
    }
   ],
   "source": [
    "plt.plot(history.history['loss'], label='Binary Cross Entropy - Training Data')\n",
    "plt.plot(history.history['val_loss'], label='Binary Cross Entropy - Test Data')\n",
    "plt.title('Binary Cross Entropy Training - Loss')\n",
    "plt.ylabel('Binary Cross Entropy Value')\n",
    "plt.xlabel('Num Epoch')\n",
    "plt.legend(loc='upper left')\n",
    "plt.show()"
   ]
  },
  {
   "cell_type": "code",
   "execution_count": 8,
   "id": "68b123f2-80fb-44fe-a531-daf8fc6cd79e",
   "metadata": {},
   "outputs": [
    {
     "data": {
      "image/png": "[encoded data removed]",
      "text/plain": [
       "<Figure size 432x288 with 1 Axes>"
      ]
     },
     "metadata": {
      "needs_background": "light"
     },
     "output_type": "display_data"
    }
   ],
   "source": [
    "plt.plot(history.history['accuracy'], label='Binary Cross Entropy - Training Data')\n",
    "plt.plot(history.history['val_accuracy'], label='Binary Cross Entropy - Test Data')\n",
    "plt.title('Binary Cross Entropy Training - Accuracy')\n",
    "plt.ylabel('Binary Cross Entropy Value')\n",
    "plt.xlabel('Num Epoch')\n",
    "plt.legend(loc='upper left')\n",
    "plt.show()"
   ]
  }
 ],
 "metadata": {
  "kernelspec": {
   "display_name": "Python 3",
   "language": "python",
   "name": "python3"
  },
  "language_info": {
   "codemirror_mode": {
    "name": "ipython",
    "version": 3
   },
   "file_extension": ".py",
   "mimetype": "text/x-python",
   "name": "python",
   "nbconvert_exporter": "python",
   "pygments_lexer": "ipython3",
   "version": "3.9.4"
  }
 },
 "nbformat": 4,
 "nbformat_minor": 5
}
