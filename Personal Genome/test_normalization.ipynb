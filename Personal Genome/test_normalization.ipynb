{
 "cells": [
  {
   "cell_type": "code",
   "execution_count": 1,
   "id": "5a58a29c-4d9f-45af-8a6f-8b7aab650d0a",
   "metadata": {},
   "outputs": [],
   "source": [
    "#test normalization methods"
   ]
  },
  {
   "cell_type": "code",
   "execution_count": null,
   "id": "e862dc00-09d1-4345-8abb-88719c2cc748",
   "metadata": {},
   "outputs": [],
   "source": [
    "import numpy as np\n",
    "import pa"
   ]
  }
 ],
 "metadata": {
  "kernelspec": {
   "display_name": "Python 3",
   "language": "python",
   "name": "python3"
  },
  "language_info": {
   "codemirror_mode": {
    "name": "ipython",
    "version": 3
   },
   "file_extension": ".py",
   "mimetype": "text/x-python",
   "name": "python",
   "nbconvert_exporter": "python",
   "pygments_lexer": "ipython3",
   "version": "3.9.4"
  }
 },
 "nbformat": 4,
 "nbformat_minor": 5
}
